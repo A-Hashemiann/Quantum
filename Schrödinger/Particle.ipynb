{
 "cells": [
  {
   "cell_type": "markdown",
   "id": "8abc558f-131a-45d7-b865-59b771e970d7",
   "metadata": {},
   "source": [
    "# Schrödinger equation\n",
    "\n",
    "- Amin Hashemian"
   ]
  },
  {
   "cell_type": "code",
   "execution_count": 5,
   "id": "8a5377a1-8941-4160-a16b-c9495693bb87",
   "metadata": {
    "scrolled": true
   },
   "outputs": [
    {
     "name": "stderr",
     "output_type": "stream",
     "text": [
      "Matplotlib is building the font cache; this may take a moment.\n"
     ]
    }
   ],
   "source": [
    "import matplotlib.pyplot as plt\n",
    "import numpy as np"
   ]
  },
  {
   "cell_type": "code",
   "execution_count": 6,
   "id": "30abc137-844f-4545-8386-3225a0bfc064",
   "metadata": {},
   "outputs": [],
   "source": [
    "h=1\n",
    "m=1"
   ]
  },
  {
   "cell_type": "code",
   "execution_count": null,
   "id": "ccbb01ca-619f-4c48-bac5-92f5a75914b4",
   "metadata": {},
   "outputs": [],
   "source": []
  }
 ],
 "metadata": {
  "kernelspec": {
   "display_name": "Python 3 (ipykernel)",
   "language": "python",
   "name": "python3"
  },
  "language_info": {
   "codemirror_mode": {
    "name": "ipython",
    "version": 3
   },
   "file_extension": ".py",
   "mimetype": "text/x-python",
   "name": "python",
   "nbconvert_exporter": "python",
   "pygments_lexer": "ipython3",
   "version": "3.12.4"
  }
 },
 "nbformat": 4,
 "nbformat_minor": 5
}
