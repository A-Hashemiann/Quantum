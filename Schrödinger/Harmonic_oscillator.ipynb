{
 "cells": [
  {
   "cell_type": "markdown",
   "id": "ecf3b4f6-b173-42e2-8e9c-943e5485ab33",
   "metadata": {},
   "source": [
    "##  Quantum harmonic oscillator"
   ]
  },
  {
   "cell_type": "code",
   "execution_count": 1,
   "id": "ab670e4a-97c9-47f2-b17e-d12ded598410",
   "metadata": {},
   "outputs": [],
   "source": [
    "import matplotlib.pyplot as plt\n",
    "import numpy as np"
   ]
  },
  {
   "cell_type": "code",
   "execution_count": 2,
   "id": "0398e4f3-4ccb-462c-aae3-fbc0ba57ac9f",
   "metadata": {},
   "outputs": [],
   "source": [
    "h=1\n",
    "m=1\n",
    "V=0.5"
   ]
  },
  {
   "cell_type": "code",
   "execution_count": 3,
   "id": "1d1fbaaf-33a4-4adb-8584-37bc46e99187",
   "metadata": {},
   "outputs": [],
   "source": [
    "psi=0.01\n",
    "dpsi=0\n",
    "dx=0.01\n",
    "\n",
    "E=0.5\n",
    "\n",
    "#V*x**2 = E + 10V\n",
    "a=np.sqrt(10+E/V)\n",
    "x=-a\n",
    "\n",
    "\n",
    "xlist=[]\n",
    "psilist=[]\n"
   ]
  },
  {
   "cell_type": "code",
   "execution_count": null,
   "id": "9f84da24-3b40-4a04-9e76-e1d2b68917aa",
   "metadata": {},
   "outputs": [],
   "source": []
  }
 ],
 "metadata": {
  "kernelspec": {
   "display_name": "Python 3 (ipykernel)",
   "language": "python",
   "name": "python3"
  },
  "language_info": {
   "codemirror_mode": {
    "name": "ipython",
    "version": 3
   },
   "file_extension": ".py",
   "mimetype": "text/x-python",
   "name": "python",
   "nbconvert_exporter": "python",
   "pygments_lexer": "ipython3",
   "version": "3.12.4"
  }
 },
 "nbformat": 4,
 "nbformat_minor": 5
}
