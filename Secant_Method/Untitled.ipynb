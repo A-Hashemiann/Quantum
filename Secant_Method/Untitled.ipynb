{
 "cells": [
  {
   "cell_type": "markdown",
   "id": "43c21acf-79f7-42f3-b707-d89e630d8464",
   "metadata": {},
   "source": [
    "root of √x + 1 cos3(x/2) in the region 0 ≤ x ≤ 2π using the secant\n",
    "method"
   ]
  },
  {
   "cell_type": "code",
   "execution_count": 3,
   "id": "5cd9543d-7a5d-4989-90c4-886e87ad3af9",
   "metadata": {},
   "outputs": [],
   "source": [
    "import numpy as np\n",
    "x0 = 1 \n",
    "x1 = 2 \n",
    "tol = 1e-15 # set the tolerance as 10^-15"
   ]
  },
  {
   "cell_type": "code",
   "execution_count": 1,
   "id": "7a692b96-4b06-476a-b2e5-797d1839492b",
   "metadata": {},
   "outputs": [
    {
     "ename": "IndentationError",
     "evalue": "expected an indented block after function definition on line 1 (1127721771.py, line 2)",
     "output_type": "error",
     "traceback": [
      "\u001b[1;36m  Cell \u001b[1;32mIn[1], line 2\u001b[1;36m\u001b[0m\n\u001b[1;33m    return np.sqrt(x+1)*np.cos(x/2)**3\u001b[0m\n\u001b[1;37m    ^\u001b[0m\n\u001b[1;31mIndentationError\u001b[0m\u001b[1;31m:\u001b[0m expected an indented block after function definition on line 1\n"
     ]
    }
   ],
   "source": [
    "def f(x):\n",
    "return np.sqrt(x+1)*np.cos(x/2)**3\n",
    "# loop 500 times OR convergence reached\n",
    "for i in range(500):\n",
    "# store the function values\n",
    "fx0 = f(x0)\n",
    "fx1 = f(x1)\n",
    "break\n",
    "# iterate variables ready for next loop\n",
    "x2 = x1 - fx1 * (x1-x0)/(fx1-fx0)\n",
    "else:\n",
    "rootFound = False\n",
    "if rootFound:\n",
    "print('After {} iterations, the root is {}'.format(N,x2))\n",
    "else:\n",
    "print('Secant method did not converge')"
   ]
  },
  {
   "cell_type": "code",
   "execution_count": null,
   "id": "36381912-34cc-4b83-8d4c-e70db517823e",
   "metadata": {},
   "outputs": [],
   "source": []
  }
 ],
 "metadata": {
  "kernelspec": {
   "display_name": "Python 3 (ipykernel)",
   "language": "python",
   "name": "python3"
  },
  "language_info": {
   "codemirror_mode": {
    "name": "ipython",
    "version": 3
   },
   "file_extension": ".py",
   "mimetype": "text/x-python",
   "name": "python",
   "nbconvert_exporter": "python",
   "pygments_lexer": "ipython3",
   "version": "3.12.4"
  }
 },
 "nbformat": 4,
 "nbformat_minor": 5
}
