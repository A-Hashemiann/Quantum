{
 "cells": [
  {
   "cell_type": "markdown",
   "id": "43c21acf-79f7-42f3-b707-d89e630d8464",
   "metadata": {},
   "source": [
    "root of √x + 1 cos3(x/2) in the region 0 ≤ x ≤ 2π using the secant\n",
    "method"
   ]
  },
  {
   "cell_type": "code",
   "execution_count": 8,
   "id": "5cd9543d-7a5d-4989-90c4-886e87ad3af9",
   "metadata": {},
   "outputs": [
    {
     "name": "stdout",
     "output_type": "stream",
     "text": [
      "After 115 iterations, the root is 3.141592653589785\n"
     ]
    }
   ],
   "source": [
    "import numpy as np\n",
    "\n",
    "x0 = 1 \n",
    "x1 = 2 \n",
    "tol = 1e-15 # set the tolerance as 10^-15\n",
    "def f(x):   \n",
    "    return np.sqrt(x+1)*np.cos(x/2)**3\n",
    "rootFound = False \n",
    "N = 0\n",
    "flag=0\n",
    "# loop 500 times OR convergence reached\n",
    "for i in range(500):\n",
    "# store the function values\n",
    "    fx0 = f(x0)\n",
    "    fx1 = f(x1)\n",
    "    flag+=1\n",
    "\n",
    "    # iterate variables ready for next loop\n",
    "    x2 = x1 - fx1 * (x1-x0)/(fx1-fx0)\n",
    "    interval = abs(x2-x1)/abs(x1)\n",
    "  \n",
    "    # check convergence\n",
    "    if interval <= tol:\n",
    "        N = i + 1\n",
    "        rootFound = True\n",
    "        break\n",
    "    # iterate variables ready for next loop\n",
    "    x0 = x1\n",
    "    x1 = x2\n",
    "\n",
    "\n",
    "if rootFound:\n",
    "    print('After {} iterations, the root is {}'.format(N,x2))\n",
    "else:\n",
    "    print(flag)\n"
   ]
  },
  {
   "cell_type": "code",
   "execution_count": null,
   "id": "a21bf97d-1e96-444a-bbb1-c50fa8c486c5",
   "metadata": {},
   "outputs": [],
   "source": []
  }
 ],
 "metadata": {
  "kernelspec": {
   "display_name": "Python 3 (ipykernel)",
   "language": "python",
   "name": "python3"
  },
  "language_info": {
   "codemirror_mode": {
    "name": "ipython",
    "version": 3
   },
   "file_extension": ".py",
   "mimetype": "text/x-python",
   "name": "python",
   "nbconvert_exporter": "python",
   "pygments_lexer": "ipython3",
   "version": "3.12.4"
  }
 },
 "nbformat": 4,
 "nbformat_minor": 5
}
