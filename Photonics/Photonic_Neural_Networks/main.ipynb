{
 "cells": [
  {
   "cell_type": "code",
   "execution_count": 1,
   "id": "d5d77a19-82b0-4956-8cae-552aa2480762",
   "metadata": {},
   "outputs": [],
   "source": [
    "import os\n",
    "import glob\n",
    "import random\n",
    "import pathlib\n",
    "import numpy as np\n",
    "from tqdm import tqdm\n",
    "import torch\n",
    "import torchvision\n",
    "import torch.nn as nn\n",
    "import torch.nn.functional as F\n",
    "from torchvision import transforms\n",
    "from torch.utils.data import DataLoader\n",
    "import matplotlib.patches as patches\n",
    "from PIL import Image\n",
    "os.environ[\"CUDA_VISIBLE_DEVICES\"] = '0'\n",
    "torch.backends.cudnn.benchmark = True\n",
    "\n",
    "import matplotlib.pyplot as plt\n",
    "from matplotlib.colors import LinearSegmentedColormap\n",
    "from matplotlib import animation\n",
    "from matplotlib.animation import PillowWriter\n",
    "from mpl_toolkits.axes_grid1 import make_axes_locatable\n",
    "import matplotlib.colors as colors\n",
    "\n",
    "import time\n",
    "import multiprocessing as m\n",
    "import concurrent.futures\n",
    "from sklearn.metrics import confusion_matrix\n",
    "\n",
    "import pickle"
   ]
  },
  {
   "cell_type": "markdown",
   "id": "96b4de64-a310-4243-a524-2aca7ae22493",
   "metadata": {},
   "source": [
    "# Wave Propagation and Diffraction Constraints in a Photonic System\n",
    "\n",
    "## 1. Wave Propagation in Photonics\n",
    "Wave propagation in a photonic system refers to how light travels through a material, such as **silicon waveguides, photonic crystals, or free space**. The behavior of light in these systems is governed by **Maxwell's equations** and the material’s refractive index ($n$).\n",
    "\n",
    "### Key properties influencing wave propagation:\n",
    "\n",
    "#### Wavelength in material:\n",
    "$\n",
    "\\lambda = \\frac{\\lambda_0}{n}\n",
    "$\n",
    "where $\\lambda_0$ is the free-space wavelength, and $n$ is the refractive index.\n",
    "\n",
    "#### Frequency of light:\n",
    "$\n",
    "f = \\frac{c}{\\lambda}\n",
    "$\n",
    "where $c$ is the speed of light.\n",
    "\n",
    "---\n",
    "\n",
    "## 2. Diffraction Constraints in Photonic Systems\n",
    "Diffraction occurs when light waves **bend or spread** after passing through an opening or interacting with an obstacle. In photonics, diffraction constraints arise due to the **spatial resolution limits** of a structure, such as in **photonic integrated circuits (PICs) and nanophotonics**.\n",
    "\n",
    "### Key diffraction constraints:\n",
    "\n",
    "#### Minimum feature size (resolution limit):\n",
    "$\n",
    "d_{\\text{min}} \\geq \\frac{\\lambda}{2n}\n",
    "$\n",
    "This defines the smallest pattern that can be resolved in a photonic circuit.\n",
    "\n",
    "#### Diffraction-limited propagation distance (Rayleigh length $z_R$):\n",
    "$\n",
    "z_R = \\frac{\\pi w_0^2}{\\lambda}\n",
    "$\n",
    "where $w_0$ is the beam waist.\n",
    "\n",
    "#### Evanescent coupling:\n",
    "Light can leak into adjacent structures if spacing is **below a critical threshold**, which depends on the refractive index contrast.\n",
    "\n",
    "---\n",
    "\n",
    "## 3. Application in Code\n",
    "The formula in code:\n",
    "$\n",
    "z_{\\text{min}} = \\text{size} \\times \\text{rect\\_length} \\times \\sqrt{\\frac{4 \\times \\text{rect\\_length}^2}{wv^2} - 1} \\times 10^6\n",
    "$\n",
    "\n",
    "\n",
    "1. **The photonic structure must be large enough** to ensure wave connectivity\n",
    "2. **Diffraction effects are considered**  since the term inside the square root resembles a diffraction condition\n",
    "3. **The structures minimum distance is set to prevent optical signal loss** or unwanted interference\n",
    "\n",
    "---\n"
   ]
  },
  {
   "cell_type": "code",
   "execution_count": 2,
   "id": "0c304592-6f13-4b96-b7cb-3651066ab2c6",
   "metadata": {},
   "outputs": [
    {
     "name": "stdout",
     "output_type": "stream",
     "text": [
      "The minimum distance to ensure full connectivity is: 99.42603230595124\n"
     ]
    }
   ],
   "source": [
    "resample_size = 10 # down sample from 28 to 10\n",
    "thold = 0.22\n",
    "pad_size = 0\n",
    "size = resample_size*resample_size + 2*pad_size\n",
    "\n",
    "ref_ind = 3.45          # Refractive index of Silicon\n",
    "free_wv = 1.55e-6       # Wavelength in freespace\n",
    "wv = free_wv/ref_ind    # Wavelength in Silicon\n",
    "\n",
    "Hz = 3e8/wv\n",
    "rect_length = 0.5e-6\n",
    "layer_length = size*rect_length\n",
    "\n",
    "z_min = size * rect_length * np.sqrt((4*rect_length**2)/wv**2-1) *1e6\n",
    "print(\"The minimum distance to ensure full connectivity is: \" + str(z_min))\n",
    "z = 100e-6 # 300e-6\n",
    "\n",
    "num_layers = 1\n",
    "lr = 0.1\n",
    "batch_size = 100\n",
    "epochs = 200\n",
    "\n",
    "# RAM 64GB,8cpu ,size =100, num_process = 20, W --> 63 sec\n",
    "# RAM 64GB,8cpu ,size =120, num_process = 20, W --> 129 sec"
   ]
  },
  {
   "cell_type": "markdown",
   "id": "a1b7e69a-3aa5-4680-9dca-5bcaaed1d1c8",
   "metadata": {},
   "source": [
    "# Build and train two-dimensional Diffractive Deep Neural Network\n",
    "\n",
    "A D2NN is a type of deep neural network that processes optical signals through diffraction instead of traditional electronic computations"
   ]
  },
  {
   "cell_type": "code",
   "execution_count": 3,
   "id": "4a9f7d71-12e9-4b6f-8125-493526a18e6a",
   "metadata": {},
   "outputs": [
    {
     "name": "stdout",
     "output_type": "stream",
     "text": [
      "NumPy computation time： 0.04548048973083496 s\n",
      "(100, 100)\n"
     ]
    }
   ],
   "source": [
    "def core_matrix(z):\n",
    "    distance = z                         # distance bewteen two layers (3cm)\n",
    "    wl = 3e8 / Hz                        # wave length\n",
    "    wn = 2 * np.pi / wl                  # wave number\n",
    "    c = rect_length\n",
    "    w = np.zeros((size, size), dtype=np.complex64)\n",
    "\n",
    "    for i in range(0, size, 1):\n",
    "        s = i % size\n",
    "        for k in range(i+1, size, 1):\n",
    "            n = k % size\n",
    "            # print(n-s)\n",
    "            r_ns = np.sqrt(np.square(distance) + np.square(n * c - s * c))\n",
    "            w[i][k] = np.exp(1j * wn * r_ns) * (1 / (2 * np.pi * r_ns) + 1 / (1j * wl)) * distance / (r_ns ** 2)\n",
    "            \n",
    "\n",
    "    w_diagonal = np.exp(1j * wn * distance) * (1 / (2 * np.pi * distance) + 1 / (1j * wl)) * distance / (distance*distance)\n",
    "    w = w.T + w\n",
    "\n",
    "    for i in range(0, size, 1):\n",
    "        w[i][i] = w_diagonal\n",
    "    \n",
    "    w = (w * rect_length * 0.22e-6)     # !!!!!!!!!!!!\n",
    "    return w\n",
    "\n",
    "start = time.time()\n",
    "W = core_matrix(z)\n",
    "end = time.time()\n",
    "print('NumPy computation time：', end - start, 's')\n",
    "\n",
    "print(np.shape(W))\n",
    "# np.savetxt(r'W.txt', np.array(W),delimiter = ',')"
   ]
  },
  {
   "cell_type": "code",
   "execution_count": 4,
   "id": "70f2a0e6-f9b7-4559-980b-aaed21c1b86c",
   "metadata": {},
   "outputs": [],
   "source": [
    "def convert_to_col_vector(arr):\n",
    "    vec = arr.view(arr.size(0), -1).t()\n",
    "    return vec"
   ]
  },
  {
   "cell_type": "code",
   "execution_count": 7,
   "id": "49223ea6-7f4c-4596-8e0e-5a520aa25366",
   "metadata": {},
   "outputs": [],
   "source": [
    "def convert_to_mat(arr):\n",
    "    mat = arr.t().view(arr.size(1), size, 1)\n",
    "    return mat"
   ]
  },
  {
   "cell_type": "code",
   "execution_count": 9,
   "id": "c72e4de9-fdb4-4b8b-83c1-fd818e8e93c0",
   "metadata": {},
   "outputs": [],
   "source": [
    "def detector_region(x):  \n",
    "    '''extract and normalize the output intensity distribution'''\n",
    "    i = size/165\n",
    "    m = 10\n",
    "    step_sizes = [10, 25, 40, 55, 70, 85, 100, 115, 130, 145]\n",
    "    result = []\n",
    "    for step in step_sizes:\n",
    "        slice = x[:, int(i*step):int(i*(step+m)), :]\n",
    "        result.append((slice / torch.max(slice)).mean(dim=(1, 2)).unsqueeze(-1))\n",
    "    return torch.cat(result, dim=-1)"
   ]
  },
  {
   "cell_type": "code",
   "execution_count": null,
   "id": "94c144b6-89b0-4493-bd9c-e0b863f024b6",
   "metadata": {},
   "outputs": [],
   "source": []
  }
 ],
 "metadata": {
  "kernelspec": {
   "display_name": "Python (pnn_venv)",
   "language": "python",
   "name": "pnn_venv"
  },
  "language_info": {
   "codemirror_mode": {
    "name": "ipython",
    "version": 3
   },
   "file_extension": ".py",
   "mimetype": "text/x-python",
   "name": "python",
   "nbconvert_exporter": "python",
   "pygments_lexer": "ipython3",
   "version": "3.12.4"
  }
 },
 "nbformat": 4,
 "nbformat_minor": 5
}
