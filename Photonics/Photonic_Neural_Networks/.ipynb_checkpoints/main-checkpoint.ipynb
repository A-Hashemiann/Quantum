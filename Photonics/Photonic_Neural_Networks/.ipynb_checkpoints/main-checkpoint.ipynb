{
 "cells": [
  {
   "cell_type": "code",
   "execution_count": 1,
   "id": "d5d77a19-82b0-4956-8cae-552aa2480762",
   "metadata": {},
   "outputs": [],
   "source": [
    "import os\n",
    "import glob\n",
    "import random\n",
    "import pathlib\n",
    "import numpy as np\n",
    "from tqdm import tqdm\n",
    "import torch\n",
    "import torchvision\n",
    "import torch.nn as nn\n",
    "import torch.nn.functional as F\n",
    "from torchvision import transforms\n",
    "from torch.utils.data import DataLoader\n",
    "import matplotlib.patches as patches\n",
    "from PIL import Image\n",
    "os.environ[\"CUDA_VISIBLE_DEVICES\"] = '0'\n",
    "torch.backends.cudnn.benchmark = True\n",
    "\n",
    "import matplotlib.pyplot as plt\n",
    "from matplotlib.colors import LinearSegmentedColormap\n",
    "from matplotlib import animation\n",
    "from matplotlib.animation import PillowWriter\n",
    "from mpl_toolkits.axes_grid1 import make_axes_locatable\n",
    "import matplotlib.colors as colors\n",
    "\n",
    "import time\n",
    "import multiprocessing as m\n",
    "import concurrent.futures\n",
    "from sklearn.metrics import confusion_matrix\n",
    "\n",
    "import pickle"
   ]
  },
  {
   "cell_type": "code",
   "execution_count": null,
   "id": "0c304592-6f13-4b96-b7cb-3651066ab2c6",
   "metadata": {},
   "outputs": [],
   "source": [
    "resample_size = 10 # down sample from 28 to 10\n",
    "thold = 0.22\n",
    "pad_size = 0\n",
    "size = resample_size*resample_size + 2*pad_size\n",
    "\n",
    "ref_ind = 3.45          # Refractive index of Silicon\n",
    "free_wv = 1.55e-6       # Wavelength in freespace\n",
    "wv = free_wv/ref_ind    # Wavelength in Silicon\n",
    "\n",
    "Hz = 3e8/wv\n",
    "rect_length = 0.5e-6\n",
    "layer_length = size*rect_length\n",
    "\n",
    "z_min = size * rect_length * np.sqrt((4*rect_length**2)/wv**2-1) *1e6\n",
    "print(\"The minimum distance to ensure full connectivity is: \" + str(z_min))\n",
    "z = 100e-6 # 300e-6\n",
    "\n",
    "num_layers = 1\n",
    "lr = 0.1\n",
    "batch_size = 100\n",
    "epochs = 200\n",
    "\n",
    "# RAM 64GB,8cpu ,size =100, num_process = 20, W --> 63 sec\n",
    "# RAM 64GB,8cpu ,size =120, num_process = 20, W --> 129 sec"
   ]
  }
 ],
 "metadata": {
  "kernelspec": {
   "display_name": "Python (pnn_venv)",
   "language": "python",
   "name": "pnn_venv"
  },
  "language_info": {
   "codemirror_mode": {
    "name": "ipython",
    "version": 3
   },
   "file_extension": ".py",
   "mimetype": "text/x-python",
   "name": "python",
   "nbconvert_exporter": "python",
   "pygments_lexer": "ipython3",
   "version": "3.12.4"
  }
 },
 "nbformat": 4,
 "nbformat_minor": 5
}
