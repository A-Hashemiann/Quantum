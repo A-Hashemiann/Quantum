{
 "cells": [
  {
   "cell_type": "code",
   "execution_count": 1,
   "id": "58e6c592-2308-40fc-89fc-b8dc7dfabbb2",
   "metadata": {},
   "outputs": [],
   "source": [
    "from qiskit import QuantumRegister, ClassicalRegister, QuantumCircuit\n",
    "q = QuantumRegister(1)\n",
    "c = ClassicalRegister(1)\n",
    "qc = QuantumCircuit(q,c)"
   ]
  },
  {
   "cell_type": "code",
   "execution_count": 2,
   "id": "e3391a8a-d0b6-48c4-b8d3-d8d65a69471a",
   "metadata": {},
   "outputs": [
    {
     "name": "stderr",
     "output_type": "stream",
     "text": [
      "/home/amen/.local/lib/python3.11/site-packages/qiskit/visualization/circuit/matplotlib.py:266: FutureWarning: The default matplotlib drawer scheme will be changed to \"iqp\" in a following release. To silence this warning, specify the current default explicitly as style=\"clifford\", or the new default as style=\"iqp\".\n",
      "  self._style, def_font_ratio = load_style(self._style)\n"
     ]
    },
    {
     "data": {
      "image/png": "[encoded data removed]",
      "text/plain": [
       "<Figure size 161.676x200.667 with 1 Axes>"
      ]
     },
     "execution_count": 2,
     "metadata": {},
     "output_type": "execute_result"
    }
   ],
   "source": [
    "qc.draw('mpl')"
   ]
  },
  {
   "cell_type": "code",
   "execution_count": 3,
   "id": "506218a7-1dfc-41be-80c0-5d724a178c07",
   "metadata": {},
   "outputs": [],
   "source": [
    "from qiskit.quantum_info import Statevector"
   ]
  },
  {
   "cell_type": "code",
   "execution_count": 4,
   "id": "d836e2d2-8681-4e51-97aa-43a1489fe75b",
   "metadata": {},
   "outputs": [
    {
     "data": {
      "text/latex": [
       "$$ |0\\rangle$$"
      ],
      "text/plain": [
       "<IPython.core.display.Latex object>"
      ]
     },
     "execution_count": 4,
     "metadata": {},
     "output_type": "execute_result"
    }
   ],
   "source": [
    "psi1 = Statevector(qc)\n",
    "psi1.draw('latex')"
   ]
  },
  {
   "cell_type": "code",
   "execution_count": null,
   "id": "920d4ae2-08d0-44c6-8088-25ded803f71f",
   "metadata": {},
   "outputs": [],
   "source": []
  }
 ],
 "metadata": {
  "kernelspec": {
   "display_name": "Python 3 (ipykernel)",
   "language": "python",
   "name": "python3"
  },
  "language_info": {
   "codemirror_mode": {
    "name": "ipython",
    "version": 3
   },
   "file_extension": ".py",
   "mimetype": "text/x-python",
   "name": "python",
   "nbconvert_exporter": "python",
   "pygments_lexer": "ipython3",
   "version": "3.11.6"
  }
 },
 "nbformat": 4,
 "nbformat_minor": 5
}
