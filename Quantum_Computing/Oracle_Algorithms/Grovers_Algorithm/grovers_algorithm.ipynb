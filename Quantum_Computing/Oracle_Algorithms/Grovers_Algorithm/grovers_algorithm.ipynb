{
 "cells": [
  {
   "cell_type": "code",
   "execution_count": 2,
   "id": "835280dc-d188-4274-b9e4-04cbedf41118",
   "metadata": {},
   "outputs": [],
   "source": [
    "N = 8"
   ]
  },
  {
   "cell_type": "code",
   "execution_count": 3,
   "id": "8033a2b3-1026-46e5-8ae0-022443ef2b86",
   "metadata": {},
   "outputs": [],
   "source": [
    "from math import ceil, log2\n",
    "n = ceil(log2(N))"
   ]
  },
  {
   "cell_type": "code",
   "execution_count": null,
   "id": "d229bcea-7f87-41d2-8ec4-9c31e211d20f",
   "metadata": {},
   "outputs": [],
   "source": []
  }
 ],
 "metadata": {
  "kernelspec": {
   "display_name": "venv_01",
   "language": "python",
   "name": "venve_01"
  },
  "language_info": {
   "codemirror_mode": {
    "name": "ipython",
    "version": 3
   },
   "file_extension": ".py",
   "mimetype": "text/x-python",
   "name": "python",
   "nbconvert_exporter": "python",
   "pygments_lexer": "ipython3",
   "version": "3.12.4"
  }
 },
 "nbformat": 4,
 "nbformat_minor": 5
}
