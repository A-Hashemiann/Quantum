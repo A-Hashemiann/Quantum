{
 "cells": [
  {
   "cell_type": "markdown",
   "id": "677ab80f-fb28-4ee4-9a5d-65dcb77bfd0c",
   "metadata": {},
   "source": [
    "- `N` represents the **total number of items** in the search space (unsorted database).\n",
    "- In Grover's Algorithm, we are searching for a **marked element** among these `N` elements.\n"
   ]
  },
  {
   "cell_type": "code",
   "execution_count": 2,
   "id": "835280dc-d188-4274-b9e4-04cbedf41118",
   "metadata": {},
   "outputs": [],
   "source": [
    "N = 8"
   ]
  },
  {
   "cell_type": "code",
   "execution_count": 3,
   "id": "8033a2b3-1026-46e5-8ae0-022443ef2b86",
   "metadata": {},
   "outputs": [],
   "source": [
    "from math import ceil, log2\n",
    "n = ceil(log2(N))"
   ]
  },
  {
   "cell_type": "code",
   "execution_count": 4,
   "id": "d229bcea-7f87-41d2-8ec4-9c31e211d20f",
   "metadata": {},
   "outputs": [
    {
     "data": {
      "text/plain": [
       "3"
      ]
     },
     "execution_count": 4,
     "metadata": {},
     "output_type": "execute_result"
    }
   ],
   "source": [
    "n"
   ]
  },
  {
   "cell_type": "markdown",
   "id": "b231b9f1-cb06-45c7-894b-f06d67ab672f",
   "metadata": {},
   "source": [
    "- We need **`n` qubits** to represent `N` possible states.\n",
    "   - Since a quantum register of `n` qubits can represent $2^n$ states, we need to solve:\n",
    "     \n",
    "     $\n",
    "     2^n \\geq N\n",
    "     $  \n",
    "   - Taking the **log base 2** gives:\n",
    "     \n",
    "     $\n",
    "     n = \\lceil \\log_2(N) \\rceil\n",
    "     $  \n",
    "   - For `N = 8`, we get:\n",
    "     \n",
    "     $\n",
    "     n = \\lceil \\log_2(8) \\rceil = \\lceil 3 \\rceil = 3\n",
    "     $  \n",
    "   - **Meaning:** We need **3 qubits** to represent `N = 8` elements."
   ]
  },
  {
   "cell_type": "code",
   "execution_count": 5,
   "id": "f300617b-1e63-4f4c-b069-7515919aefb7",
   "metadata": {},
   "outputs": [],
   "source": [
    "from random import randint\n",
    "winner_index = randint(0,N-1)"
   ]
  },
  {
   "cell_type": "code",
   "execution_count": 6,
   "id": "a8f1e201-74af-4598-8ef6-9ed70eac2b55",
   "metadata": {},
   "outputs": [
    {
     "data": {
      "text/plain": [
       "3"
      ]
     },
     "execution_count": 6,
     "metadata": {},
     "output_type": "execute_result"
    }
   ],
   "source": [
    "winner_index"
   ]
  },
  {
   "cell_type": "code",
   "execution_count": 7,
   "id": "10fab151-18b2-4c88-89c3-bafa48c91615",
   "metadata": {},
   "outputs": [],
   "source": [
    "winner_state = bin(winner_index)[2:].zfill(n)"
   ]
  },
  {
   "cell_type": "code",
   "execution_count": 8,
   "id": "1214aa3a-62e2-474c-8da5-deddfc7c1231",
   "metadata": {},
   "outputs": [
    {
     "data": {
      "text/plain": [
       "'011'"
      ]
     },
     "execution_count": 8,
     "metadata": {},
     "output_type": "execute_result"
    }
   ],
   "source": [
    "winner_state"
   ]
  },
  {
   "cell_type": "markdown",
   "id": "0d796b63-271f-4309-8cd3-4fad715e664e",
   "metadata": {},
   "source": [
    "- `bin(winner_index)[2:]` converts the decimal number into a **binary string** and removes the `\"0b\"` prefix.\n",
    "- `.zfill(n)` ensures that the binary string has exactly `n` bits (padding with leading zeros if needed).\n",
    "- If `winner_index = 3`, the correct solution is at index `3`.\n",
    "- This variable is expected to store the **index of the correct solution** (the item we are searching for).\n",
    "- \n",
    "**Example: If `winner_index = 3` (decimal 3 in 3-bit binary)**  \n",
    "   ```python\n",
    "   bin(3)  # '0b11'\n",
    "   bin(3)[2:]  # '11'\n",
    "   '11'.zfill(3)  # '011' (adds one leading zero)\n",
    "\n",
    "\n",
    "**Why is this useful in Grover’s Algorithm?**\n",
    "- The algorithm searches for a special state (the **marked state**).\n",
    "- `winner_state` is the **target quantum state** that Grovers Algorithm will amplify."
   ]
  },
  {
   "cell_type": "code",
   "execution_count": 9,
   "id": "7ac6b9ad-d06b-4a52-b71c-271f52abf31a",
   "metadata": {},
   "outputs": [
    {
     "data": {
      "image/png": "[encoded data removed]",
      "text/plain": [
       "<Figure size 162.08x367.889 with 1 Axes>"
      ]
     },
     "execution_count": 9,
     "metadata": {},
     "output_type": "execute_result"
    }
   ],
   "source": [
    "from qiskit import QuantumCircuit\n",
    "qc = QuantumCircuit(n,n)\n",
    "qc.draw('mpl')"
   ]
  },
  {
   "cell_type": "code",
   "execution_count": 10,
   "id": "325fee46-3aa2-4b33-adc1-d959081ebd84",
   "metadata": {},
   "outputs": [
    {
     "data": {
      "image/png": "[encoded data removed]",
      "text/plain": [
       "<Figure size 287.496x367.889 with 1 Axes>"
      ]
     },
     "execution_count": 10,
     "metadata": {},
     "output_type": "execute_result"
    }
   ],
   "source": [
    "for i in range(n):\n",
    "    qc.h(i)\n",
    "qc.barrier()\n",
    "qc.draw('mpl')"
   ]
  },
  {
   "cell_type": "code",
   "execution_count": 12,
   "id": "9a162db2-a5d8-4a8e-a873-40512c9fe254",
   "metadata": {},
   "outputs": [],
   "source": [
    "def Householder():\n",
    "    import numpy as np\n",
    "    Refl = np.identity(N)\n",
    "    Refl[winner_index,winner_index]=-1\n",
    "    from qiskit.quantum_info import Operator\n",
    "    Refl_Op = Operator(Refl)\n",
    "    n_qubits = []\n",
    "    for i in range(n):\n",
    "        n_qubits.append(i)\n",
    "    qc.unitary(Refl_Op,qubits=n_qubits, label = 'Uw')\n",
    "    qc.barrier()\n",
    "    return qc"
   ]
  },
  {
   "cell_type": "markdown",
   "id": "619f07c3-14f4-4c10-bc46-2ecf28422193",
   "metadata": {},
   "source": [
    "- `Operator` from Qiskit is used to define **quantum operations from matrices**.\n",
    " \n",
    " ```python\n",
    "Refl = np.identity(N)\n",
    "Refl[winner_index, winner_index] = -1\n",
    "```\n",
    "- This creates an **N × N identity matrix**, where `N` is the total number of states.\n",
    "- The **Householder reflection matrix** in Grovers Algorithm flips the phase of the **marked state** (the correct solution).\n",
    "- The diagonal matrix `Refl` has `1`s everywhere **except** at `winner_index`, where it has `-1`.\n",
    "\n",
    "\n",
    "\n",
    "```python\n",
    "Refl_Op = Operator(Refl)\n",
    "```\n",
    "- Converts the `Refl` **NumPy matrix** into a **Qiskit Operator**, allowing it to be applied as a quantum gate.\n",
    "\n",
    "```python\n",
    "n_qubits = []\n",
    "for i in range(n):\n",
    "    n_qubits.append(i)\n",
    "```\n",
    "- This creates a list of qubit indices from `0` to `n-1` (all the qubits needed for the operation).\n",
    "\n",
    "\n",
    "```python\n",
    "qc.unitary(Refl_Op, qubits=n_qubits, label='Uw')\n",
    "```\n",
    "- Applies the Householder reflection as a **unitary gate** (`Uw`) in the quantum circuit.\n",
    "- This step **marks the solution state** by flipping its phase.\n"
   ]
  },
  {
   "cell_type": "code",
   "execution_count": 13,
   "id": "24992454-5676-4fe1-b332-35fcd3afcf32",
   "metadata": {},
   "outputs": [
    {
     "data": {
      "text/plain": [
       "<qiskit.circuit.quantumcircuit.QuantumCircuit at 0x1e7a6e3bcb0>"
      ]
     },
     "execution_count": 13,
     "metadata": {},
     "output_type": "execute_result"
    }
   ],
   "source": [
    "Householder()"
   ]
  },
  {
   "cell_type": "code",
   "execution_count": 14,
   "id": "44f0c967-57f7-43ad-ae26-dfd019e7d109",
   "metadata": {},
   "outputs": [
    {
     "data": {
      "image/png": "[encoded data removed]",
      "text/plain": [
       "<Figure size 454.719x367.889 with 1 Axes>"
      ]
     },
     "execution_count": 14,
     "metadata": {},
     "output_type": "execute_result"
    }
   ],
   "source": [
    "qc.draw('mpl')"
   ]
  },
  {
   "cell_type": "code",
   "execution_count": null,
   "id": "f3c2466b-912d-46d4-a693-b5153dc400a8",
   "metadata": {},
   "outputs": [],
   "source": []
  }
 ],
 "metadata": {
  "kernelspec": {
   "display_name": "venv_01",
   "language": "python",
   "name": "venve_01"
  },
  "language_info": {
   "codemirror_mode": {
    "name": "ipython",
    "version": 3
   },
   "file_extension": ".py",
   "mimetype": "text/x-python",
   "name": "python",
   "nbconvert_exporter": "python",
   "pygments_lexer": "ipython3",
   "version": "3.12.4"
  }
 },
 "nbformat": 4,
 "nbformat_minor": 5
}
