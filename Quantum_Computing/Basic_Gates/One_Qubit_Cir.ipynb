{
 "cells": [
  {
   "cell_type": "code",
   "execution_count": 1,
   "id": "22ef1851-9152-403a-8370-1847eff97aaa",
   "metadata": {},
   "outputs": [],
   "source": [
    "from qiskit import QuantumRegister, ClassicalRegister, QuantumCircuit\n",
    "q = QuantumRegister(1)\n",
    "qc0 = QuantumCircuit(q)\n",
    "qc1 = QuantumCircuit(q)"
   ]
  },
  {
   "cell_type": "code",
   "execution_count": 2,
   "id": "3322051b-7f65-4150-a074-ad0d6ea8c6cb",
   "metadata": {},
   "outputs": [],
   "source": [
    "for i in range(3):\n",
    "    qc0.y(q[0])"
   ]
  },
  {
   "cell_type": "code",
   "execution_count": 3,
   "id": "8e4e7717-a2b6-4da5-9b12-0143a96b8d9e",
   "metadata": {},
   "outputs": [
    {
     "data": {
      "image/png": "[encoded data removed]",
      "text/plain": [
       "<Figure size 370.704x117.056 with 1 Axes>"
      ]
     },
     "metadata": {},
     "output_type": "display_data"
    },
    {
     "data": {
      "image/png": "[encoded data removed]",
      "text/plain": [
       "<Figure size 161.676x117.056 with 1 Axes>"
      ]
     },
     "metadata": {},
     "output_type": "display_data"
    }
   ],
   "source": [
    "display(qc0.draw('mpl'),qc1.draw('mpl'))"
   ]
  },
  {
   "cell_type": "code",
   "execution_count": 4,
   "id": "58d636f6-887b-439f-8dd0-7be64e778fa2",
   "metadata": {},
   "outputs": [],
   "source": [
    "from qiskit.quantum_info import Statevector"
   ]
  },
  {
   "cell_type": "code",
   "execution_count": 5,
   "id": "9dd85b3f-e76f-411f-9668-1610ddb4dc9d",
   "metadata": {},
   "outputs": [],
   "source": [
    "psi0 = Statevector(qc0)\n",
    "psi1 = Statevector(qc1)"
   ]
  },
  {
   "cell_type": "code",
   "execution_count": 6,
   "id": "f8619d26-d673-4400-875a-fe72a347fb86",
   "metadata": {},
   "outputs": [
    {
     "data": {
      "text/latex": [
       "$$i |1\\rangle$$"
      ],
      "text/plain": [
       "<IPython.core.display.Latex object>"
      ]
     },
     "metadata": {},
     "output_type": "display_data"
    },
    {
     "data": {
      "text/latex": [
       "$$ |0\\rangle$$"
      ],
      "text/plain": [
       "<IPython.core.display.Latex object>"
      ]
     },
     "metadata": {},
     "output_type": "display_data"
    }
   ],
   "source": [
    "display(psi0.draw('latex'),psi1.draw('latex'))"
   ]
  },
  {
   "cell_type": "code",
   "execution_count": 7,
   "id": "28046d97-2e70-4ddf-bd2f-4417101d238a",
   "metadata": {},
   "outputs": [
    {
     "data": {
      "image/png": "[encoded data removed]",
      "text/plain": [
       "<Figure size 454.315x117.056 with 1 Axes>"
      ]
     },
     "metadata": {},
     "output_type": "display_data"
    },
    {
     "data": {
      "image/png": "[encoded data removed]",
      "text/plain": [
       "<Figure size 203.481x117.056 with 1 Axes>"
      ]
     },
     "metadata": {},
     "output_type": "display_data"
    }
   ],
   "source": [
    "qc0.reset(q[0])\n",
    "qc1.reset(q[0])\n",
    "display(qc0.draw('mpl'),qc1.draw('mpl'))"
   ]
  },
  {
   "cell_type": "code",
   "execution_count": 8,
   "id": "a8b85b34-9f7b-480d-87b5-afc59e71ac2d",
   "metadata": {},
   "outputs": [
    {
     "data": {
      "image/png": "[encoded data removed]",
      "text/plain": [
       "<Figure size 621.537x117.056 with 1 Axes>"
      ]
     },
     "metadata": {},
     "output_type": "display_data"
    },
    {
     "data": {
      "image/png": "[encoded data removed]",
      "text/plain": [
       "<Figure size 287.093x117.056 with 1 Axes>"
      ]
     },
     "metadata": {},
     "output_type": "display_data"
    }
   ],
   "source": [
    "qc0.z(q[0])\n",
    "qc0.x(q[0])\n",
    "qc1.y(q[0])\n",
    "display(qc0.draw('mpl'),qc1.draw('mpl'))"
   ]
  },
  {
   "cell_type": "code",
   "execution_count": null,
   "id": "163ab225-4fb5-4157-8298-690fc6051915",
   "metadata": {},
   "outputs": [],
   "source": []
  }
 ],
 "metadata": {
  "kernelspec": {
   "display_name": "gates (myenv)",
   "language": "python",
   "name": "gatesvenv"
  },
  "language_info": {
   "codemirror_mode": {
    "name": "ipython",
    "version": 3
   },
   "file_extension": ".py",
   "mimetype": "text/x-python",
   "name": "python",
   "nbconvert_exporter": "python",
   "pygments_lexer": "ipython3",
   "version": "3.12.4"
  }
 },
 "nbformat": 4,
 "nbformat_minor": 5
}
