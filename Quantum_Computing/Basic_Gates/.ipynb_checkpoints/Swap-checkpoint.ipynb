{
 "cells": [
  {
   "cell_type": "code",
   "execution_count": 1,
   "id": "fce4d344-4eeb-4351-9a82-933e1681c662",
   "metadata": {},
   "outputs": [
    {
     "data": {
      "text/latex": [
       "$$ |00\\rangle$$"
      ],
      "text/plain": [
       "<IPython.core.display.Latex object>"
      ]
     },
     "execution_count": 1,
     "metadata": {},
     "output_type": "execute_result"
    }
   ],
   "source": [
    "from qiskit import QuantumRegister, QuantumCircuit\n",
    "from qiskit.quantum_info import Statevector\n",
    "q = QuantumRegister(2)\n",
    "qc = QuantumCircuit(q)\n",
    "\n",
    "psi1 = Statevector(qc)\n",
    "psi1.draw('latex')"
   ]
  },
  {
   "cell_type": "code",
   "execution_count": 2,
   "id": "533a02ea-1b0a-4071-a7e7-6a67dc44a79e",
   "metadata": {},
   "outputs": [
    {
     "data": {
      "image/png": "[encoded data removed]",
      "text/plain": [
       "<Figure size 179.906x200.667 with 1 Axes>"
      ]
     },
     "execution_count": 2,
     "metadata": {},
     "output_type": "execute_result"
    }
   ],
   "source": [
    "qc.draw('mpl')"
   ]
  },
  {
   "cell_type": "code",
   "execution_count": 3,
   "id": "ad0ab911-59da-40c4-b5bd-0c5f15e56a5e",
   "metadata": {},
   "outputs": [
    {
     "data": {
      "image/png": "[encoded data removed]",
      "text/plain": [
       "<Figure size 221.712x200.667 with 1 Axes>"
      ]
     },
     "execution_count": 3,
     "metadata": {},
     "output_type": "execute_result"
    }
   ],
   "source": [
    "qc.x(q[0])\n",
    "qc.draw('mpl')"
   ]
  },
  {
   "cell_type": "code",
   "execution_count": 4,
   "id": "558a75c3-0eb9-4e64-a879-893a603e1733",
   "metadata": {},
   "outputs": [
    {
     "data": {
      "text/latex": [
       "$$ |01\\rangle$$"
      ],
      "text/plain": [
       "<IPython.core.display.Latex object>"
      ]
     },
     "execution_count": 4,
     "metadata": {},
     "output_type": "execute_result"
    }
   ],
   "source": [
    "psi2 = Statevector(qc)\n",
    "psi2.draw('latex')"
   ]
  },
  {
   "cell_type": "code",
   "execution_count": 5,
   "id": "3bb4e842-6a5d-43fd-9292-c411c9b4ddd9",
   "metadata": {},
   "outputs": [
    {
     "data": {
      "image/png": "[encoded data removed]",
      "text/plain": [
       "<Figure size 305.323x200.667 with 1 Axes>"
      ]
     },
     "execution_count": 5,
     "metadata": {},
     "output_type": "execute_result"
    }
   ],
   "source": [
    "qc.swap(q[0],q[1])\n",
    "qc.draw('mpl')"
   ]
  },
  {
   "cell_type": "code",
   "execution_count": 6,
   "id": "f60b9104-9e09-48cd-8d2b-b0da424a6d16",
   "metadata": {},
   "outputs": [
    {
     "data": {
      "text/latex": [
       "$$ |10\\rangle$$"
      ],
      "text/plain": [
       "<IPython.core.display.Latex object>"
      ]
     },
     "execution_count": 6,
     "metadata": {},
     "output_type": "execute_result"
    }
   ],
   "source": [
    "psi3 = Statevector(qc)\n",
    "psi3.draw('latex')"
   ]
  },
  {
   "cell_type": "code",
   "execution_count": null,
   "id": "88e571f7-b222-49ba-96ad-daf330325cc7",
   "metadata": {},
   "outputs": [],
   "source": []
  }
 ],
 "metadata": {
  "kernelspec": {
   "display_name": "gates (myenv)",
   "language": "python",
   "name": "gatesvenv"
  },
  "language_info": {
   "codemirror_mode": {
    "name": "ipython",
    "version": 3
   },
   "file_extension": ".py",
   "mimetype": "text/x-python",
   "name": "python",
   "nbconvert_exporter": "python",
   "pygments_lexer": "ipython3",
   "version": "3.12.4"
  }
 },
 "nbformat": 4,
 "nbformat_minor": 5
}
