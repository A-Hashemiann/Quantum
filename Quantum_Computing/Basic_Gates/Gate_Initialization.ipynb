{
 "cells": [
  {
   "cell_type": "code",
   "execution_count": 1,
   "id": "1cf71826-75ad-4652-8d04-dfcbed7bf07e",
   "metadata": {},
   "outputs": [],
   "source": [
    "from qiskit import QuantumRegister, ClassicalRegister, QuantumCircuit\n",
    "q = QuantumRegister(3)\n",
    "c = ClassicalRegister(3)\n",
    "qc0 = QuantumCircuit(q,c)\n",
    "qc1 = QuantumCircuit(q,c)"
   ]
  },
  {
   "cell_type": "code",
   "execution_count": 2,
   "id": "a1950613-3272-4ccb-a9dd-9f06d0f02b29",
   "metadata": {},
   "outputs": [
    {
     "data": {
      "image/png": "[encoded data removed]",
      "text/plain": [
       "<Figure size 389.136x367.889 with 1 Axes>"
      ]
     },
     "execution_count": 2,
     "metadata": {},
     "output_type": "execute_result"
    }
   ],
   "source": [
    "qc0.h(q[0])\n",
    "qc0.cx(q[0],q[1])\n",
    "qc0.cx(q[0],q[2])\n",
    "qc0.draw('mpl')"
   ]
  },
  {
   "cell_type": "code",
   "execution_count": 3,
   "id": "f452be9b-3f1f-4fb3-91d5-0dea0affe20b",
   "metadata": {},
   "outputs": [],
   "source": [
    "from qiskit.quantum_info import Statevector"
   ]
  },
  {
   "cell_type": "code",
   "execution_count": 4,
   "id": "df2b7631-10d1-4ec9-b2aa-b844b92d72e6",
   "metadata": {},
   "outputs": [
    {
     "data": {
      "text/latex": [
       "$$\\frac{\\sqrt{2}}{2} |000\\rangle+\\frac{\\sqrt{2}}{2} |111\\rangle$$"
      ],
      "text/plain": [
       "<IPython.core.display.Latex object>"
      ]
     },
     "execution_count": 4,
     "metadata": {},
     "output_type": "execute_result"
    }
   ],
   "source": [
    "psi0 = Statevector(qc0)\n",
    "psi0.draw('latex')"
   ]
  },
  {
   "cell_type": "code",
   "execution_count": null,
   "id": "5a963e55-bdad-417f-9468-bbeb75d59281",
   "metadata": {},
   "outputs": [],
   "source": []
  }
 ],
 "metadata": {
  "kernelspec": {
   "display_name": "gates (myenv)",
   "language": "python",
   "name": "gatesvenv"
  },
  "language_info": {
   "codemirror_mode": {
    "name": "ipython",
    "version": 3
   },
   "file_extension": ".py",
   "mimetype": "text/x-python",
   "name": "python",
   "nbconvert_exporter": "python",
   "pygments_lexer": "ipython3",
   "version": "3.12.4"
  }
 },
 "nbformat": 4,
 "nbformat_minor": 5
}
