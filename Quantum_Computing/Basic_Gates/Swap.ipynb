{
 "cells": [
  {
   "cell_type": "code",
   "execution_count": null,
   "id": "fce4d344-4eeb-4351-9a82-933e1681c662",
   "metadata": {},
   "outputs": [],
   "source": [
    "from qiskit import QuantumRegister, QuantumCircuit\n",
    "from qiskit.quantum_info import Statevector\n",
    "q = QuantumRegister(2)\n",
    "qc = QuantumCircuit(q)\n"
   ]
  }
 ],
 "metadata": {
  "kernelspec": {
   "display_name": "gates (myenv)",
   "language": "python",
   "name": "gatesvenv"
  },
  "language_info": {
   "codemirror_mode": {
    "name": "ipython",
    "version": 3
   },
   "file_extension": ".py",
   "mimetype": "text/x-python",
   "name": "python",
   "nbconvert_exporter": "python",
   "pygments_lexer": "ipython3",
   "version": "3.12.4"
  }
 },
 "nbformat": 4,
 "nbformat_minor": 5
}
