{
 "cells": [
  {
   "cell_type": "markdown",
   "id": "2ad5726f-d4b1-4164-a4c3-6e6f170482d9",
   "metadata": {},
   "source": [
    "# Wavefunction Visualization in Quantum Mechanics\n",
    "\n",
    "This project simulates and visualizes wavefunctions $\\psi(x)$ in position space and $\\psi(p)$ in momentum space for a Gaussian wave packet. The code uses Fourier transforms to switch between the two spaces and demonstrates key concepts in continuous-variable quantum mechanics."
   ]
  },
  {
   "cell_type": "code",
   "execution_count": 5,
   "id": "771f8571-988a-4e1f-afa4-ac89662affaa",
   "metadata": {},
   "outputs": [],
   "source": [
    "import numpy as np\n",
    "import matplotlib.pyplot as plt"
   ]
  },
  {
   "cell_type": "code",
   "execution_count": 6,
   "id": "803226dc-469b-4579-a566-10d8acb7c66d",
   "metadata": {},
   "outputs": [],
   "source": [
    "# Constants\n",
    "hbar = 1.0  # reduced Plancks constant\n",
    "m = 1.0  # mass\n",
    "omega = 1.0  # angular frequency"
   ]
  },
  {
   "cell_type": "markdown",
   "id": "8181336e-8ebd-41ef-b925-9d8e7715ffca",
   "metadata": {},
   "source": [
    "# Constants\n",
    "\n",
    "### Reduced Planck's constant ($\\hbar$):\n",
    "```python\n",
    "hbar = 1.0\n",
    "```\n",
    "$\\hbar = \\frac{h}{2\\pi}$, where $h$ is Planck's constant.\n",
    "It is set to 1.0 for simplicity, which is common in computational physics to work in natural units. The actual value of $\\hbar$ is $1.054 \\times 10^{-34} \\ \\mathrm{J \\cdot s}$.\n",
    "\n",
    "### Mass ($m$):\n",
    "```python\n",
    "m = 1.0\n",
    "```\n",
    "Represents the mass of the particle being simulated.\n",
    "Set to 1.0 to simplify calculations and focus on the qualitative behavior of the wavefunction.\n",
    "\n",
    "### Angular frequency ($\\omega$):\n",
    "```python\n",
    "omega = 1.0\n",
    "```\n",
    "Represents the angular frequency of the system (for a harmonic oscillator).\n",
    "Determines how quickly the particle oscillates."
   ]
  },
  {
   "cell_type": "markdown",
   "id": "a3c830d3-c3d5-49f3-bf6b-746cf0466514",
   "metadata": {},
   "source": [
    "# Grid Settings\n",
    "\n",
    "### Position space grid range ($x_{\\text{min}}, x_{\\text{max}}$):"
   ]
  },
  {
   "cell_type": "code",
   "execution_count": 7,
   "id": "b03fcde2-9093-48d3-baff-4c44e04aa372",
   "metadata": {},
   "outputs": [],
   "source": [
    "x_min, x_max = -10, 10"
   ]
  },
  {
   "cell_type": "markdown",
   "id": "2bf2b44d-1941-48bf-95df-17d2a9c6d21c",
   "metadata": {},
   "source": [
    "Defines the range of the position grid, i.e., the simulation domain.\n",
    "The particle is assumed to exist within $x \\in [-10, 10]$."
   ]
  },
  {
   "cell_type": "markdown",
   "id": "847920ea-c804-49bc-87db-62f4107bcc93",
   "metadata": {},
   "source": [
    "### Number of grid points ($N$):"
   ]
  },
  {
   "cell_type": "code",
   "execution_count": 8,
   "id": "578bb8c1-9e2a-498f-b00b-0b36ef1745f6",
   "metadata": {},
   "outputs": [],
   "source": [
    "N = 1024"
   ]
  },
  {
   "cell_type": "markdown",
   "id": "69a63634-89c7-4f9c-a3c7-df7e9da66b71",
   "metadata": {},
   "source": [
    "Specifies the number of discrete points used to sample the position space.\n",
    "A higher $N$ provides better resolution for the wavefunction, but increases computational cost."
   ]
  },
  {
   "cell_type": "markdown",
   "id": "659244b3-9470-4237-b488-cd40bed8231e",
   "metadata": {},
   "source": [
    "### Creating the position grid ($x$)"
   ]
  },
  {
   "cell_type": "code",
   "execution_count": 9,
   "id": "112b64c4-b700-4940-94d4-9dde997d7685",
   "metadata": {},
   "outputs": [],
   "source": [
    "x = np.linspace(x_min, x_max, N)"
   ]
  },
  {
   "cell_type": "markdown",
   "id": "1174ab13-ee52-424b-96e2-1b871278d97e",
   "metadata": {},
   "source": [
    "Generates $N$ evenly spaced points between $x_{\\text{min}}$ and $x_{\\text{max}}$, forming the position space grid."
   ]
  },
  {
   "cell_type": "code",
   "execution_count": 10,
   "id": "66fa3e78-0a5f-4f19-a6e0-85a53a4a9019",
   "metadata": {},
   "outputs": [],
   "source": [
    "dx = x[1] - x[0]"
   ]
  },
  {
   "cell_type": "markdown",
   "id": "64098843-909f-47b7-9f21-5e7d33db2734",
   "metadata": {},
   "source": [
    "Calculates the spacing between consecutive grid points. Necessary for performing numerical operations like integration differentiation and Fourier transforms"
   ]
  },
  {
   "cell_type": "markdown",
   "id": "4da21870-2a0c-4773-bb04-332eccdb8090",
   "metadata": {},
   "source": [
    "\n",
    "### Defining Wavefunction in Position Space\n",
    "#### Gaussian Wave Packet:"
   ]
  },
  {
   "cell_type": "code",
   "execution_count": 13,
   "id": "99ea5614-de2e-4703-a0c1-58e19e12dd45",
   "metadata": {},
   "outputs": [],
   "source": [
    "x0 = 0.0  \n",
    "p0 = 1.0  \n",
    "sigma = 1.0  \n",
    "\n",
    "psi_x = (1 / (sigma * np.sqrt(2 * np.pi))) * np.exp(-(x - x0)**2 / (2 * sigma**2)) * np.exp(1j * p0 * x / hbar)"
   ]
  },
  {
   "cell_type": "markdown",
   "id": "819ff015-0fcf-48fa-851c-79dcd191447e",
   "metadata": {},
   "source": [
    "The Gaussian wave packet is defined with:\n",
    "- $x_0$: Center of the wave packet in position space.\n",
    "- $p_0$: Mean momentum.\n",
    "- $\\sigma$: Width of the wave packet."
   ]
  },
  {
   "cell_type": "markdown",
   "id": "db2c5335-ccd2-469c-9a77-5cf9fd937e93",
   "metadata": {},
   "source": [
    "###  Normalizing the Wavefunction"
   ]
  },
  {
   "cell_type": "code",
   "execution_count": 14,
   "id": "9722a132-df39-48a4-a033-1db01d1c595e",
   "metadata": {},
   "outputs": [],
   "source": [
    "norm_x = np.sqrt(np.sum(np.abs(psi_x)**2) * dx)\n",
    "psi_x /= norm_x"
   ]
  },
  {
   "cell_type": "markdown",
   "id": "cab0416f-f933-418f-bd28-4a91a85d6af9",
   "metadata": {},
   "source": [
    "### Computing Wavefunction in Momentum Space"
   ]
  },
  {
   "cell_type": "code",
   "execution_count": 16,
   "id": "a19a4f5c-fb91-4be6-bc64-2ef2df4dea6e",
   "metadata": {},
   "outputs": [],
   "source": [
    "dp = 2 * np.pi / (N * dx)  # momentum space grid spacing\n",
    "p = np.fft.fftfreq(N, d=dx) * 2 * np.pi\n",
    "psi_p = np.fft.fftshift(np.fft.fft(np.fft.ifftshift(psi_x))) * dx / (2 * np.pi / hbar)"
   ]
  },
  {
   "cell_type": "markdown",
   "id": "c6a978ef-5f0e-48c9-aff6-fdda332be0cb",
   "metadata": {},
   "source": [
    "- `np.fft.fftfreq`: Creates the momentum grid\n",
    "- `np.fft.fft` and `np.fft.fftshift`: Perform the Fourier transform and shift the zero-frequency component to the center"
   ]
  },
  {
   "cell_type": "markdown",
   "id": "eef60fb5-a9a6-4030-ad59-531f9b7076ed",
   "metadata": {},
   "source": [
    "### Normalizing the Wavefunction in Momentum Space"
   ]
  },
  {
   "cell_type": "code",
   "execution_count": 18,
   "id": "1323c299-d288-4a74-960d-90edaafa79b4",
   "metadata": {},
   "outputs": [],
   "source": [
    "norm_p = np.sqrt(np.sum(np.abs(psi_p)**2) * dp)\n",
    "psi_p /= norm_p"
   ]
  },
  {
   "cell_type": "markdown",
   "id": "f60f1b76-4241-4aca-b885-a1a46c3344a3",
   "metadata": {},
   "source": [
    "###  Visualization\n",
    "\n"
   ]
  },
  {
   "cell_type": "code",
   "execution_count": 19,
   "id": "716808bc-d5f5-4bbc-a297-bcbb3900da32",
   "metadata": {},
   "outputs": [
    {
     "data": {
      "text/plain": [
       "<Figure size 1200x600 with 0 Axes>"
      ]
     },
     "execution_count": 19,
     "metadata": {},
     "output_type": "execute_result"
    },
    {
     "data": {
      "text/plain": [
       "<Figure size 1200x600 with 0 Axes>"
      ]
     },
     "metadata": {},
     "output_type": "display_data"
    }
   ],
   "source": [
    "plt.figure(figsize=(12, 6))"
   ]
  },
  {
   "cell_type": "markdown",
   "id": "d00794bc-863d-4c64-98c0-6ff8e254f9e3",
   "metadata": {},
   "source": [
    "### Position space"
   ]
  },
  {
   "cell_type": "code",
   "execution_count": 20,
   "id": "c20e00f0-6d7f-42fa-a27d-e073dad2d0b0",
   "metadata": {},
   "outputs": [
    {
     "name": "stderr",
     "output_type": "stream",
     "text": [
      "<>:2: SyntaxWarning: invalid escape sequence '\\p'\n",
      "<>:5: SyntaxWarning: invalid escape sequence '\\p'\n",
      "<>:2: SyntaxWarning: invalid escape sequence '\\p'\n",
      "<>:5: SyntaxWarning: invalid escape sequence '\\p'\n",
      "C:\\Users\\Asgardian\\AppData\\Local\\Temp\\ipykernel_1260\\1474419632.py:2: SyntaxWarning: invalid escape sequence '\\p'\n",
      "  plt.plot(x, np.abs(psi_x)**2, label='$|\\psi(x)|^2$')\n",
      "C:\\Users\\Asgardian\\AppData\\Local\\Temp\\ipykernel_1260\\1474419632.py:5: SyntaxWarning: invalid escape sequence '\\p'\n",
      "  plt.ylabel('$|\\psi(x)|^2$')\n"
     ]
    },
    {
     "data": {
      "text/plain": [
       "<matplotlib.legend.Legend at 0x1c6fdd8ea80>"
      ]
     },
     "execution_count": 20,
     "metadata": {},
     "output_type": "execute_result"
    },
    {
     "data": {
      "image/png": "[encoded data removed]",
      "text/plain": [
       "<Figure size 640x480 with 1 Axes>"
      ]
     },
     "metadata": {},
     "output_type": "display_data"
    }
   ],
   "source": [
    "plt.subplot(1, 2, 1)\n",
    "plt.plot(x, np.abs(psi_x)**2, label='$|\\psi(x)|^2$')\n",
    "plt.title('Wavefunction in Position Space')\n",
    "plt.xlabel('$x$')\n",
    "plt.ylabel('$|\\psi(x)|^2$')\n",
    "plt.legend()"
   ]
  },
  {
   "cell_type": "markdown",
   "id": "784318db-075f-4528-973c-cbdbd4138563",
   "metadata": {},
   "source": [
    "### Momentum space"
   ]
  },
  {
   "cell_type": "code",
   "execution_count": null,
   "id": "96393bbc-781d-44ab-952b-0a1fb8aaa140",
   "metadata": {},
   "outputs": [],
   "source": []
  }
 ],
 "metadata": {
  "kernelspec": {
   "display_name": "venv_cvqi",
   "language": "python",
   "name": "venv_cvqi"
  },
  "language_info": {
   "codemirror_mode": {
    "name": "ipython",
    "version": 3
   },
   "file_extension": ".py",
   "mimetype": "text/x-python",
   "name": "python",
   "nbconvert_exporter": "python",
   "pygments_lexer": "ipython3",
   "version": "3.12.4"
  }
 },
 "nbformat": 4,
 "nbformat_minor": 5
}
