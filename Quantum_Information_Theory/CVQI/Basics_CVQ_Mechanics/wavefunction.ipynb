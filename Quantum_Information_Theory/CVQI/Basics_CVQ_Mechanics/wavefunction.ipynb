{
 "cells": [
  {
   "cell_type": "code",
   "execution_count": 1,
   "id": "771f8571-988a-4e1f-afa4-ac89662affaa",
   "metadata": {},
   "outputs": [],
   "source": [
    "import numpy as np\n",
    "import matplotlib.pyplot as plt"
   ]
  },
  {
   "cell_type": "code",
   "execution_count": 2,
   "id": "803226dc-469b-4579-a566-10d8acb7c66d",
   "metadata": {},
   "outputs": [],
   "source": [
    "# Constants\n",
    "hbar = 1.0  # reduced Plancks constant\n",
    "m = 1.0  # mass\n",
    "omega = 1.0  # angular frequency"
   ]
  },
  {
   "cell_type": "markdown",
   "id": "8181336e-8ebd-41ef-b925-9d8e7715ffca",
   "metadata": {},
   "source": [
    "# Constants\n",
    "\n",
    "### Reduced Planck's constant ($\\hbar$):\n",
    "```python\n",
    "hbar = 1.0\n",
    "```\n",
    "$\\hbar = \\frac{h}{2\\pi}$, where $h$ is Planck's constant.\n",
    "It is set to 1.0 for simplicity, which is common in computational physics to work in natural units. The actual value of $\\hbar$ is $1.054 \\times 10^{-34} \\ \\mathrm{J \\cdot s}$.\n",
    "\n",
    "### Mass ($m$):\n",
    "```python\n",
    "m = 1.0\n",
    "```\n",
    "Represents the mass of the particle being simulated.\n",
    "Set to 1.0 to simplify calculations and focus on the qualitative behavior of the wavefunction.\n",
    "\n",
    "### Angular frequency ($\\omega$):\n",
    "```python\n",
    "omega = 1.0\n",
    "```\n",
    "Represents the angular frequency of the system (for a harmonic oscillator).\n",
    "Determines how quickly the particle oscillates."
   ]
  },
  {
   "cell_type": "markdown",
   "id": "a3c830d3-c3d5-49f3-bf6b-746cf0466514",
   "metadata": {},
   "source": [
    "# Grid Settings\n",
    "\n",
    "### Position space grid range ($x_{\\text{min}}, x_{\\text{max}}$):"
   ]
  },
  {
   "cell_type": "code",
   "execution_count": 2,
   "id": "b03fcde2-9093-48d3-baff-4c44e04aa372",
   "metadata": {},
   "outputs": [],
   "source": [
    "x_min, x_max = -10, 10"
   ]
  },
  {
   "cell_type": "markdown",
   "id": "2bf2b44d-1941-48bf-95df-17d2a9c6d21c",
   "metadata": {},
   "source": [
    "Defines the range of the position grid, i.e., the simulation domain.\n",
    "The particle is assumed to exist within $x \\in [-10, 10]$."
   ]
  },
  {
   "cell_type": "code",
   "execution_count": null,
   "id": "314143f2-eefc-4812-a3c9-ff135928167b",
   "metadata": {},
   "outputs": [],
   "source": []
  }
 ],
 "metadata": {
  "kernelspec": {
   "display_name": "venv_cvqi",
   "language": "python",
   "name": "venv_cvqi"
  },
  "language_info": {
   "codemirror_mode": {
    "name": "ipython",
    "version": 3
   },
   "file_extension": ".py",
   "mimetype": "text/x-python",
   "name": "python",
   "nbconvert_exporter": "python",
   "pygments_lexer": "ipython3",
   "version": "3.12.4"
  }
 },
 "nbformat": 4,
 "nbformat_minor": 5
}
