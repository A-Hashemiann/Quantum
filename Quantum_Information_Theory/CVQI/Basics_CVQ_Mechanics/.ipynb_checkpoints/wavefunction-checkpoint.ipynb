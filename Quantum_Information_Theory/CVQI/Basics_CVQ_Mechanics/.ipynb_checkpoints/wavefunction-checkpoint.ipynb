{
 "cells": [
  {
   "cell_type": "code",
   "execution_count": 1,
   "id": "771f8571-988a-4e1f-afa4-ac89662affaa",
   "metadata": {},
   "outputs": [],
   "source": [
    "import numpy as np\n",
    "import matplotlib.pyplot as plt"
   ]
  },
  {
   "cell_type": "code",
   "execution_count": null,
   "id": "803226dc-469b-4579-a566-10d8acb7c66d",
   "metadata": {},
   "outputs": [],
   "source": [
    "# Constants\n",
    "hbar = 1.0  # reduced Plancks constant\n",
    "m = 1.0  # mass\n",
    "omega = 1.0  # angular frequency"
   ]
  }
 ],
 "metadata": {
  "kernelspec": {
   "display_name": "venv_cvqi",
   "language": "python",
   "name": "venv_cvqi"
  },
  "language_info": {
   "codemirror_mode": {
    "name": "ipython",
    "version": 3
   },
   "file_extension": ".py",
   "mimetype": "text/x-python",
   "name": "python",
   "nbconvert_exporter": "python",
   "pygments_lexer": "ipython3",
   "version": "3.12.4"
  }
 },
 "nbformat": 4,
 "nbformat_minor": 5
}
