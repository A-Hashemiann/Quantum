{
 "cells": [
  {
   "cell_type": "markdown",
   "id": "702d43b3-f821-461c-83bf-39a060d0aad4",
   "metadata": {},
   "source": [
    "# **Heisenberg Uncertainty Visualization**\n",
    "\n",
    "This project demonstrates the **Heisenberg Uncertainty Principle** using **coherent states** and **squeezed states** in quantum mechanics. The visualization illustrates the trade-off between the uncertainties in position ($\\Delta x$) and momentum ($\\Delta p$) for quantum states, highlighting their mathematical and physical significance."
   ]
  },
  {
   "cell_type": "markdown",
   "id": "50b734fa-9442-4d2d-a523-57bbff0bc7ef",
   "metadata": {},
   "source": [
    "The Heisenberg Uncertainty Principle is a cornerstone of quantum mechanics. It states that the product of the uncertainties in position ($\\Delta x$) and momentum ($\\Delta p$) for a particle is bounded by:\n",
    "\n",
    "$$\n",
    "\\Delta x \\cdot \\Delta p \\geq \\frac{\\hbar}{2}.\n",
    "$$\n",
    "\n",
    "\n",
    "- **Coherent states**: States with minimum uncertainty.\n",
    "- **Squeezed states**: States where uncertainties are unequally distributed between position and momentum.\n",
    "\n",
    "---\n",
    "\n",
    "## **Key Concepts**\n",
    "\n",
    "### 1. **Coherent States**\n",
    "- Gaussian wave packets with symmetric uncertainties.\n",
    "- Minimal uncertainty product: $\\Delta x \\cdot \\Delta p = \\frac{\\hbar}{2}$.\n",
    "\n",
    "### 2. **Squeezed States**\n",
    "- Modified Gaussian states where one uncertainty is reduced at the cost of the other.\n",
    "- Still satisfies the uncertainty relation: $\\Delta x \\cdot \\Delta p \\geq \\frac{\\hbar}{2}$.\n",
    "\n",
    "### 3. **Fourier Transforms**\n",
    "- Used to calculate the momentum-space wavefunction from the position-space wavefunction.\n"
   ]
  },
  {
   "cell_type": "code",
   "execution_count": 1,
   "id": "acd5705e-0387-4d4c-ba5d-15f05971b638",
   "metadata": {},
   "outputs": [],
   "source": [
    "import numpy as np\n",
    "import matplotlib.pyplot as plt"
   ]
  }
 ],
 "metadata": {
  "kernelspec": {
   "display_name": "venv_cvqi",
   "language": "python",
   "name": "venv_cvqi"
  },
  "language_info": {
   "codemirror_mode": {
    "name": "ipython",
    "version": 3
   },
   "file_extension": ".py",
   "mimetype": "text/x-python",
   "name": "python",
   "nbconvert_exporter": "python",
   "pygments_lexer": "ipython3",
   "version": "3.12.4"
  }
 },
 "nbformat": 4,
 "nbformat_minor": 5
}
