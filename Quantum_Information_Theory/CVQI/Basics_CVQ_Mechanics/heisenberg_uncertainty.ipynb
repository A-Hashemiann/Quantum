{
 "cells": [
  {
   "cell_type": "markdown",
   "id": "702d43b3-f821-461c-83bf-39a060d0aad4",
   "metadata": {},
   "source": [
    "# **Heisenberg Uncertainty Visualization**\n",
    "\n",
    "This project demonstrates the **Heisenberg Uncertainty Principle** using **coherent states** and **squeezed states** in quantum mechanics. The visualization illustrates the trade-off between the uncertainties in position ($\\Delta x$) and momentum ($\\Delta p$) for quantum states, highlighting their mathematical and physical significance."
   ]
  },
  {
   "cell_type": "markdown",
   "id": "50b734fa-9442-4d2d-a523-57bbff0bc7ef",
   "metadata": {},
   "source": [
    "The Heisenberg Uncertainty Principle is a cornerstone of quantum mechanics. It states that the product of the uncertainties in position ($\\Delta x$) and momentum ($\\Delta p$) for a particle is bounded by:\n",
    "\n",
    "$$\n",
    "\\Delta x \\cdot \\Delta p \\geq \\frac{\\hbar}{2}.\n",
    "$$\n",
    "\n",
    "\n",
    "- **Coherent states**: States with minimum uncertainty.\n",
    "- **Squeezed states**: States where uncertainties are unequally distributed between position and momentum.\n",
    "\n",
    "---\n",
    "\n",
    "## **Key Concepts**\n",
    "\n",
    "### 1. **Coherent States**\n",
    "- Gaussian wave packets with symmetric uncertainties.\n",
    "- Minimal uncertainty product: $\\Delta x \\cdot \\Delta p = \\frac{\\hbar}{2}$.\n",
    "\n",
    "### 2. **Squeezed States**\n",
    "- Modified Gaussian states where one uncertainty is reduced at the cost of the other.\n",
    "- Still satisfies the uncertainty relation: $\\Delta x \\cdot \\Delta p \\geq \\frac{\\hbar}{2}$.\n",
    "\n",
    "### 3. **Fourier Transforms**\n",
    "- Used to calculate the momentum-space wavefunction from the position-space wavefunction.\n"
   ]
  },
  {
   "cell_type": "code",
   "execution_count": 1,
   "id": "acd5705e-0387-4d4c-ba5d-15f05971b638",
   "metadata": {},
   "outputs": [],
   "source": [
    "import numpy as np\n",
    "import matplotlib.pyplot as plt"
   ]
  },
  {
   "cell_type": "code",
   "execution_count": 4,
   "id": "794bd495-5b0c-4777-8519-e341b2b1fcc9",
   "metadata": {},
   "outputs": [],
   "source": [
    "# Constants\n",
    "hbar = 1.0  # reduced Plancks constant\n",
    "m = 1.0  # mass\n",
    "omega = 1.0  # angular frequency\n",
    "sigma = np.sqrt(hbar / (2 * m * omega))  # standard Gaussian width"
   ]
  },
  {
   "cell_type": "markdown",
   "id": "a1d8638e-3463-432e-9e41-1f9d40af7f6c",
   "metadata": {},
   "source": [
    "### Grid Setup\n",
    "- Creates position and momentum grids for numerical simulation."
   ]
  },
  {
   "cell_type": "code",
   "execution_count": 6,
   "id": "f17b5f6a-461f-419f-9129-3927a38c3824",
   "metadata": {},
   "outputs": [],
   "source": [
    "x_min, x_max, N = -10, 10, 1024\n",
    "x = np.linspace(x_min, x_max, N)\n",
    "dx = x[1] - x[0]\n",
    "p = np.fft.fftfreq(N, d=dx) * 2 * np.pi\n",
    "dp = p[1] - p[0]"
   ]
  },
  {
   "cell_type": "markdown",
   "id": "ab9b0518-30dd-4bf7-8c43-a31f73e80d6c",
   "metadata": {},
   "source": [
    "### Coherent States\n",
    "- Constructs Gaussian wavefunctions in position and momentum space."
   ]
  },
  {
   "cell_type": "code",
   "execution_count": 8,
   "id": "43e98e79-a225-4163-b91e-bdf8bd18ada1",
   "metadata": {},
   "outputs": [],
   "source": [
    "psi_coherent = (1 / np.sqrt(np.sqrt(np.pi) * sigma)) * np.exp(-x**2 / (2 * sigma**2))"
   ]
  },
  {
   "cell_type": "markdown",
   "id": "d1e7ff75-7600-40a8-8864-3b11ab836cd6",
   "metadata": {},
   "source": [
    "### Squeezed States\n",
    "- Generates modified wavefunctions with unequal uncertainties."
   ]
  },
  {
   "cell_type": "code",
   "execution_count": null,
   "id": "e0612fb9-4650-40b7-ab20-cc32c3690add",
   "metadata": {},
   "outputs": [],
   "source": []
  }
 ],
 "metadata": {
  "kernelspec": {
   "display_name": "venv_cvqi",
   "language": "python",
   "name": "venv_cvqi"
  },
  "language_info": {
   "codemirror_mode": {
    "name": "ipython",
    "version": 3
   },
   "file_extension": ".py",
   "mimetype": "text/x-python",
   "name": "python",
   "nbconvert_exporter": "python",
   "pygments_lexer": "ipython3",
   "version": "3.12.4"
  }
 },
 "nbformat": 4,
 "nbformat_minor": 5
}
