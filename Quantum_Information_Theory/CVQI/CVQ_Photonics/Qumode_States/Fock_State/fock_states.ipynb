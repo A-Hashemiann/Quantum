{
 "cells": [
  {
   "cell_type": "markdown",
   "id": "51d4ef0b-09ac-4ab9-b979-292a8ad8b984",
   "metadata": {},
   "source": [
    "The **Wigner function** is a quasi-probability distribution used in quantum mechanics to represent quantum states in phase space [1] .  It provides a way to visualize quantum states in terms of both position $(x) $and momentum $(p)$ \n",
    "The Wigner function $W(x, p)$ is defined for a quantum state described by a wavefunction $ \\psi(x)$  or a density matrix $\\rho $. for a pure state with wavefunction $\\psi(x)$, the Wigner function is given by:\n",
    "\n",
    "$\n",
    "W(x, p) = \\frac{1}{\\pi \\hbar} \\int_{-\\infty}^\\infty dy \\, \\psi^*\\!\\left(x - \\frac{y}{2}\\right) \\psi\\!\\left(x + \\frac{y}{2}\\right) e^{i p y / \\hbar}.\n",
    "$\n",
    "\n",
    "for a mixed state described by a density matrix $\\rho$, the Wigner function is:\n",
    "\n",
    "$\n",
    "W(x, p) = \\frac{1}{\\pi \\hbar} \\int_{-\\infty}^\\infty dy \\, \\langle x - \\frac{y}{2} | \\rho | x + \\frac{y}{2} \\rangle e^{i p y / \\hbar}.\n",
    "$"
   ]
  },
  {
   "cell_type": "code",
   "execution_count": 1,
   "id": "a09512e1-9bff-4878-b803-bd7db729e0ba",
   "metadata": {},
   "outputs": [],
   "source": [
    "import numpy as np\n",
    "import matplotlib.pyplot as plt\n",
    "from scipy.special import hermite\n",
    "from math import factorial, pi\n",
    "from mpl_toolkits.mplot3d import Axes3D "
   ]
  },
  {
   "cell_type": "markdown",
   "id": "3de9b6e3-b642-49b9-a2f4-b9154aed81c0",
   "metadata": {},
   "source": [
    "### Parameters\n",
    "- `n`: The Fock state $(|n\\rangle)$ to visualize  $(|0\\rangle, |1\\rangle, |2\\rangle$, etc.)\n",
    "- `grid_size`: The resolution of the Wigner function grid\n",
    "- `xvec`, `pvec`: Position and momentum space grids\n",
    "- `hbar`: Reduced Planck constant (set to 1 for simplicity)"
   ]
  },
  {
   "cell_type": "code",
   "execution_count": 3,
   "id": "d79e5317-7547-4c84-a456-6e215c879121",
   "metadata": {},
   "outputs": [],
   "source": [
    "n = 0  \n",
    "grid_size = 100  \n",
    "xvec = np.linspace(-5, 5, grid_size)  \n",
    "pvec = np.linspace(-5, 5, grid_size)  \n",
    "hbar = 1  "
   ]
  },
  {
   "cell_type": "markdown",
   "id": "3ae63591-3e18-4a6d-b826-ef6a5acf01c1",
   "metadata": {},
   "source": [
    "### Functions\n",
    "\n",
    "1. **`fock_state_wavefunction(x, n)`**:\n",
    "   - Computes the wavefunction of a Fock state $|n\\rangle$ in position space\n",
    "   - I use the Hermite polynomial from `scipy.special`."
   ]
  },
  {
   "cell_type": "code",
   "execution_count": 4,
   "id": "c06379a7-36ec-4dad-86c2-faa2281a7681",
   "metadata": {},
   "outputs": [],
   "source": [
    "def fock_state_wavefunction(x, n):\n",
    "    return (1 / np.sqrt(2**n * factorial(n) * (pi)**0.25) * np.exp(-x**2 / 2) * hermite(n)(x))"
   ]
  },
  {
   "cell_type": "markdown",
   "id": "b6432622-91a4-4dff-aebb-ba686944963b",
   "metadata": {},
   "source": [
    "2. **`calculate_wigner(psi, xvec, pvec, hbar=1)`**:\n",
    "   - Calculates the Wigner function for a given wavefunction $\\psi(x)$\n",
    "\n"
   ]
  },
  {
   "cell_type": "code",
   "execution_count": 6,
   "id": "415b4a92-b2cd-4399-8687-27c4b1d6d5ce",
   "metadata": {},
   "outputs": [],
   "source": [
    "def calculate_wigner(psi, xvec, pvec, hbar=1):\n",
    "    W = np.zeros((len(pvec), len(xvec)), dtype=complex)\n",
    "    dx = xvec[1] - xvec[0]  \n",
    "\n",
    "    for i, x in enumerate(xvec):\n",
    "        for j, p in enumerate(pvec):\n",
    "            y = np.linspace(-10, 10, grid_size)  # integration variable y\n",
    "            integrand = psi(x - y / 2) * np.conj(psi(x + y / 2)) * np.exp(1j * p * y / hbar)\n",
    "            W[j, i] = np.trapezoid(integrand, y)  \n",
    "    W = np.real(W) / (np.pi * hbar)  #normalize\n",
    "    return W"
   ]
  },
  {
   "cell_type": "code",
   "execution_count": null,
   "id": "1b0eae93-9ee5-4b29-9c17-5a2ce5e7235a",
   "metadata": {},
   "outputs": [],
   "source": []
  }
 ],
 "metadata": {
  "kernelspec": {
   "display_name": "cvqc (env01)",
   "language": "python",
   "name": "cvqc-env01"
  },
  "language_info": {
   "codemirror_mode": {
    "name": "ipython",
    "version": 3
   },
   "file_extension": ".py",
   "mimetype": "text/x-python",
   "name": "python",
   "nbconvert_exporter": "python",
   "pygments_lexer": "ipython3",
   "version": "3.10.0"
  }
 },
 "nbformat": 4,
 "nbformat_minor": 5
}
