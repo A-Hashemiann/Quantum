{
 "cells": [
  {
   "cell_type": "markdown",
   "id": "51d4ef0b-09ac-4ab9-b979-292a8ad8b984",
   "metadata": {},
   "source": [
    "The **Wigner function** is a quasi-probability distribution used in quantum mechanics to represent quantum states in phase space [1] .  It provides a way to visualize quantum states in terms of both position $(x) $and momentum $(p)$ \n",
    "The Wigner function $W(x, p)$ is defined for a quantum state described by a wavefunction $ \\psi(x)$  or a density matrix $\\rho $. for a pure state with wavefunction $\\psi(x)$, the Wigner function is given by:\n",
    "\n",
    "$\n",
    "W(x, p) = \\frac{1}{\\pi \\hbar} \\int_{-\\infty}^\\infty dy \\, \\psi^*\\!\\left(x - \\frac{y}{2}\\right) \\psi\\!\\left(x + \\frac{y}{2}\\right) e^{i p y / \\hbar}.\n",
    "$\n",
    "\n",
    "for a mixed state described by a density matrix $\\rho$, the Wigner function is:\n",
    "\n",
    "$\n",
    "W(x, p) = \\frac{1}{\\pi \\hbar} \\int_{-\\infty}^\\infty dy \\, \\langle x - \\frac{y}{2} | \\rho | x + \\frac{y}{2} \\rangle e^{i p y / \\hbar}.\n",
    "$"
   ]
  },
  {
   "cell_type": "code",
   "execution_count": 1,
   "id": "a09512e1-9bff-4878-b803-bd7db729e0ba",
   "metadata": {},
   "outputs": [],
   "source": [
    "import numpy as np\n",
    "import matplotlib.pyplot as plt\n",
    "from scipy.special import hermite\n",
    "from math import factorial, pi\n",
    "from mpl_toolkits.mplot3d import Axes3D "
   ]
  },
  {
   "cell_type": "code",
   "execution_count": null,
   "id": "1839bee9-c143-4147-8787-bdad43ad736d",
   "metadata": {},
   "outputs": [],
   "source": []
  }
 ],
 "metadata": {
  "kernelspec": {
   "display_name": "cvqc (env01)",
   "language": "python",
   "name": "cvqc-env01"
  },
  "language_info": {
   "codemirror_mode": {
    "name": "ipython",
    "version": 3
   },
   "file_extension": ".py",
   "mimetype": "text/x-python",
   "name": "python",
   "nbconvert_exporter": "python",
   "pygments_lexer": "ipython3",
   "version": "3.10.0"
  }
 },
 "nbformat": 4,
 "nbformat_minor": 5
}
