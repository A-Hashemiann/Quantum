{
 "cells": [
  {
   "cell_type": "code",
   "execution_count": 52,
   "id": "5177bd0f-ba08-41a6-ac57-47ab4583a2ad",
   "metadata": {},
   "outputs": [],
   "source": [
    "from random import randint"
   ]
  },
  {
   "cell_type": "code",
   "execution_count": 53,
   "id": "1baa3ebd-36b1-42e2-8afc-09fb9a1420be",
   "metadata": {},
   "outputs": [],
   "source": [
    "bits =[]\n",
    "for i in range(8):\n",
    "    bit = randint(0,1)\n",
    "    bits.append(bit)"
   ]
  },
  {
   "cell_type": "code",
   "execution_count": 54,
   "id": "6e9d128c-d211-41b4-8f21-ccc93a7062bd",
   "metadata": {},
   "outputs": [
    {
     "data": {
      "text/plain": [
       "[1, 1, 0, 1, 0, 1, 1, 1]"
      ]
     },
     "execution_count": 54,
     "metadata": {},
     "output_type": "execute_result"
    }
   ],
   "source": [
    "bits"
   ]
  },
  {
   "cell_type": "code",
   "execution_count": 55,
   "id": "980f7fc8-fe86-4a26-b790-1def9a1796ec",
   "metadata": {},
   "outputs": [],
   "source": [
    "from random import choice"
   ]
  },
  {
   "cell_type": "code",
   "execution_count": 56,
   "id": "a36e24c6-c2b2-4547-8ff8-69287ae85905",
   "metadata": {},
   "outputs": [],
   "source": [
    "basis = []\n",
    "for i in range(8):\n",
    "    base = choice(['X','Z'])\n",
    "    basis.append(base)"
   ]
  },
  {
   "cell_type": "code",
   "execution_count": 57,
   "id": "f348411e-bb23-4895-a56a-ea94c66e2731",
   "metadata": {},
   "outputs": [
    {
     "data": {
      "text/plain": [
       "['X', 'X', 'X', 'X', 'Z', 'X', 'X', 'X']"
      ]
     },
     "execution_count": 57,
     "metadata": {},
     "output_type": "execute_result"
    }
   ],
   "source": [
    "basis"
   ]
  },
  {
   "cell_type": "code",
   "execution_count": 58,
   "id": "83857ad1-6efb-45b8-b205-375f56cea3fd",
   "metadata": {},
   "outputs": [],
   "source": [
    "from qiskit import QuantumCircuit, QuantumRegister, ClassicalRegister\n",
    "q = QuantumRegister(8)\n",
    "c = ClassicalRegister(8)\n",
    "qc = QuantumCircuit(q,c)"
   ]
  },
  {
   "cell_type": "code",
   "execution_count": 59,
   "id": "4f2c52a8-c1b8-4546-ad01-94e0b8514375",
   "metadata": {},
   "outputs": [],
   "source": [
    "num_qubits = qc.num_qubits"
   ]
  },
  {
   "cell_type": "code",
   "execution_count": 60,
   "id": "d97c22f3-423f-4330-b599-4afd9a51cedc",
   "metadata": {},
   "outputs": [],
   "source": [
    "for i in range(num_qubits):\n",
    "    if basis[i] == 'Z':\n",
    "        if bits[i] == 0:\n",
    "            qc.append(IGate(), [qc.qubits[i]])\n",
    "        else:\n",
    "            qc.x(qc.qubits[i])\n",
    "    else:\n",
    "        if bits[i] == 0:\n",
    "            qc.h(qc.qubits[i])\n",
    "        else:\n",
    "            qc.x(qc.qubits[i])\n",
    "            qc.h(qc.qubits[i])"
   ]
  },
  {
   "cell_type": "code",
   "execution_count": 61,
   "id": "c0a10309-5294-425f-b6f2-6cc6e94339d8",
   "metadata": {},
   "outputs": [
    {
     "data": {
      "image/png": "[encoded data removed]",
      "text/plain": [
       "<Figure size 389.54x785.944 with 1 Axes>"
      ]
     },
     "execution_count": 61,
     "metadata": {},
     "output_type": "execute_result"
    }
   ],
   "source": [
    "qc.barrier()\n",
    "qc.draw('mpl')"
   ]
  },
  {
   "cell_type": "code",
   "execution_count": 62,
   "id": "f1085b87-6894-46e7-8d18-c1eab9c59663",
   "metadata": {},
   "outputs": [],
   "source": [
    "bobs_base =[]\n",
    "for i in range(8):\n",
    "    base = choice(['X','Z'])\n",
    "    bobs_base.append(base)"
   ]
  },
  {
   "cell_type": "code",
   "execution_count": 63,
   "id": "1bee174b-b3e5-4f3a-ab58-720d456eb5bc",
   "metadata": {},
   "outputs": [
    {
     "data": {
      "text/plain": [
       "['X', 'X', 'Z', 'Z', 'X', 'Z', 'X', 'X']"
      ]
     },
     "execution_count": 63,
     "metadata": {},
     "output_type": "execute_result"
    }
   ],
   "source": [
    "bobs_base"
   ]
  },
  {
   "cell_type": "code",
   "execution_count": null,
   "id": "d6789d87-25ad-4f44-b119-dcebb9047ccd",
   "metadata": {},
   "outputs": [],
   "source": []
  }
 ],
 "metadata": {
  "kernelspec": {
   "display_name": "venv_01",
   "language": "python",
   "name": "myenv"
  },
  "language_info": {
   "codemirror_mode": {
    "name": "ipython",
    "version": 3
   },
   "file_extension": ".py",
   "mimetype": "text/x-python",
   "name": "python",
   "nbconvert_exporter": "python",
   "pygments_lexer": "ipython3",
   "version": "3.12.4"
  }
 },
 "nbformat": 4,
 "nbformat_minor": 5
}
