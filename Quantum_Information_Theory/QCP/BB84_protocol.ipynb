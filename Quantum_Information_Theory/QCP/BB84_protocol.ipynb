{
 "cells": [
  {
   "cell_type": "code",
   "execution_count": 4,
   "id": "5177bd0f-ba08-41a6-ac57-47ab4583a2ad",
   "metadata": {},
   "outputs": [],
   "source": [
    "from random import randint"
   ]
  },
  {
   "cell_type": "code",
   "execution_count": 5,
   "id": "1baa3ebd-36b1-42e2-8afc-09fb9a1420be",
   "metadata": {},
   "outputs": [],
   "source": [
    "bits =[]\n",
    "for i in range(8):\n",
    "    bit = randint(0,1)\n",
    "    bits.append(bit)"
   ]
  },
  {
   "cell_type": "code",
   "execution_count": 6,
   "id": "6e9d128c-d211-41b4-8f21-ccc93a7062bd",
   "metadata": {},
   "outputs": [
    {
     "data": {
      "text/plain": [
       "[0, 0, 1, 1, 0, 0, 0, 0]"
      ]
     },
     "execution_count": 6,
     "metadata": {},
     "output_type": "execute_result"
    }
   ],
   "source": [
    "bits"
   ]
  },
  {
   "cell_type": "code",
   "execution_count": 7,
   "id": "980f7fc8-fe86-4a26-b790-1def9a1796ec",
   "metadata": {},
   "outputs": [],
   "source": [
    "from random import choice"
   ]
  },
  {
   "cell_type": "code",
   "execution_count": 8,
   "id": "a36e24c6-c2b2-4547-8ff8-69287ae85905",
   "metadata": {},
   "outputs": [],
   "source": [
    "basis = []\n",
    "for i in range(8):\n",
    "    base = choice(['X','Z'])\n",
    "    basis.append(base)"
   ]
  },
  {
   "cell_type": "code",
   "execution_count": 9,
   "id": "f348411e-bb23-4895-a56a-ea94c66e2731",
   "metadata": {},
   "outputs": [
    {
     "data": {
      "text/plain": [
       "['Z', 'Z', 'Z', 'X', 'X', 'X', 'Z', 'Z']"
      ]
     },
     "execution_count": 9,
     "metadata": {},
     "output_type": "execute_result"
    }
   ],
   "source": [
    "basis"
   ]
  },
  {
   "cell_type": "code",
   "execution_count": null,
   "id": "83857ad1-6efb-45b8-b205-375f56cea3fd",
   "metadata": {},
   "outputs": [],
   "source": []
  }
 ],
 "metadata": {
  "kernelspec": {
   "display_name": "venv_01",
   "language": "python",
   "name": "myenv"
  },
  "language_info": {
   "codemirror_mode": {
    "name": "ipython",
    "version": 3
   },
   "file_extension": ".py",
   "mimetype": "text/x-python",
   "name": "python",
   "nbconvert_exporter": "python",
   "pygments_lexer": "ipython3",
   "version": "3.12.4"
  }
 },
 "nbformat": 4,
 "nbformat_minor": 5
}
