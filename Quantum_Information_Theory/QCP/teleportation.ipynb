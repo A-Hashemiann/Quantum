{
 "cells": [
  {
   "cell_type": "code",
   "execution_count": null,
   "id": "43049125-4ee3-4c76-b73f-3be95457f33f",
   "metadata": {},
   "outputs": [],
   "source": []
  }
 ],
 "metadata": {
  "kernelspec": {
   "display_name": "",
   "name": ""
  },
  "language_info": {
   "name": ""
  }
 },
 "nbformat": 4,
 "nbformat_minor": 5
}
