{
 "cells": [
  {
   "cell_type": "code",
   "execution_count": 2,
   "id": "d3af144e-f03e-4460-914a-b0f637dddc65",
   "metadata": {},
   "outputs": [],
   "source": [
    "import numpy as np"
   ]
  },
  {
   "cell_type": "code",
   "execution_count": 3,
   "id": "bd67c7fd-2ca3-4f4a-b2de-a423e9e2e499",
   "metadata": {},
   "outputs": [],
   "source": [
    "def shannon_entropy(probabilities):\n",
    "    \"\"\"Calculate Shannon entropy from a list of probabilities.\"\"\"\n",
    "    return -sum(p * np.log2(p) for p in probabilities if p > 0)"
   ]
  },
  {
   "cell_type": "code",
   "execution_count": null,
   "id": "cdf0a0a9-ee81-4d5f-9e08-7cef73b5b074",
   "metadata": {},
   "outputs": [],
   "source": []
  }
 ],
 "metadata": {
  "kernelspec": {
   "display_name": "Python 3 (ipykernel)",
   "language": "python",
   "name": "python3"
  },
  "language_info": {
   "codemirror_mode": {
    "name": "ipython",
    "version": 3
   },
   "file_extension": ".py",
   "mimetype": "text/x-python",
   "name": "python",
   "nbconvert_exporter": "python",
   "pygments_lexer": "ipython3",
   "version": "3.12.4"
  }
 },
 "nbformat": 4,
 "nbformat_minor": 5
}
