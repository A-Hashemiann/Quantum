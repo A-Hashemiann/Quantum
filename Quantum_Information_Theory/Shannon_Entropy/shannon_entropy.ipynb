{
 "cells": [
  {
   "cell_type": "code",
   "execution_count": 1,
   "id": "d3af144e-f03e-4460-914a-b0f637dddc65",
   "metadata": {},
   "outputs": [],
   "source": [
    "import numpy as np"
   ]
  },
  {
   "cell_type": "code",
   "execution_count": 2,
   "id": "bd67c7fd-2ca3-4f4a-b2de-a423e9e2e499",
   "metadata": {},
   "outputs": [],
   "source": [
    "def shannon_entropy(probabilities):\n",
    "    \"\"\"Calculate Shannon entropy from a list of probabilities.\"\"\"\n",
    "    return -sum(p * np.log2(p) for p in probabilities if p > 0)"
   ]
  },
  {
   "cell_type": "code",
   "execution_count": 3,
   "id": "cdf0a0a9-ee81-4d5f-9e08-7cef73b5b074",
   "metadata": {},
   "outputs": [],
   "source": [
    "# example statevector for a 1-qubit quantum state in superposition (|0⟩ + |1⟩) / √2 \n",
    "statevector = [1/np.sqrt(2), 1/np.sqrt(2)]\n",
    "probabilities = np.abs(statevector) **2\n",
    "entropy = shannon_entropy(probabilities)"
   ]
  },
  {
   "cell_type": "code",
   "execution_count": 4,
   "id": "1b304b78-7be2-4f9b-9b6b-cd74dcf1b874",
   "metadata": {},
   "outputs": [
    {
     "name": "stdout",
     "output_type": "stream",
     "text": [
      "Statevector: [np.float64(0.7071067811865475), np.float64(0.7071067811865475)]\n",
      "Probabilities: [0.5 0.5]\n",
      "Shannon Entropy: 1.0\n"
     ]
    }
   ],
   "source": [
    "print(f\"Statevector: {statevector}\") \n",
    "print(f\"Probabilities: {probabilities}\") \n",
    "print(f\"Shannon Entropy: {entropy}\")"
   ]
  }
 ],
 "metadata": {
  "kernelspec": {
   "display_name": "Python 3 (ipykernel)",
   "language": "python",
   "name": "python3"
  },
  "language_info": {
   "codemirror_mode": {
    "name": "ipython",
    "version": 3
   },
   "file_extension": ".py",
   "mimetype": "text/x-python",
   "name": "python",
   "nbconvert_exporter": "python",
   "pygments_lexer": "ipython3",
   "version": "3.12.4"
  }
 },
 "nbformat": 4,
 "nbformat_minor": 5
}
