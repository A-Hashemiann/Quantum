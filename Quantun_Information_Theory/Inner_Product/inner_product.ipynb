{
 "cells": [
  {
   "cell_type": "code",
   "execution_count": 18,
   "id": "fdda258d-4ed4-4595-807c-08b705f12659",
   "metadata": {},
   "outputs": [],
   "source": [
    "import numpy as np"
   ]
  },
  {
   "cell_type": "code",
   "execution_count": 24,
   "id": "e8dcf53d-121d-4a11-a2d5-db2992bd9bdc",
   "metadata": {},
   "outputs": [
    {
     "name": "stdout",
     "output_type": "stream",
     "text": [
      "The inner product of the vectors is: (217-18j)\n"
     ]
    }
   ],
   "source": [
    "def inner_product(vec1, vec2):\n",
    "    \"\"\"\n",
    "    Here we compute the inner product\n",
    "    Attributes:\n",
    "    vec1: it is a column vector.\n",
    "    vec2: it is the second column vector.\n",
    "    Returns:\n",
    "    inn: inner product between vec1 and vec2.\n",
    "    \"\"\"\n",
    "    inn = complex(0.0, 0.0)\n",
    "    # Checks the dimension of |vi and |wi whether they are equal or not\n",
    "    assert len(vec1) == len(vec2), \"Dimension of two vectors are not equal to each other\"\n",
    "    # Next for loop calculates hv|wi\n",
    "    for i in range(0, len(vec1)):\n",
    "        inn = inn + (np.conjugate(vec1[i]) * vec2[i])\n",
    "    return inn\n",
    "\n",
    "inner_prod = inner_product(vec1, vec2)\n",
    "print(f\"The inner product of the vectors is: {inner_prod}\")"
   ]
  },
  {
   "cell_type": "code",
   "execution_count": null,
   "id": "31d05397-c626-4e0e-87ca-c4482776dd95",
   "metadata": {},
   "outputs": [],
   "source": []
  }
 ],
 "metadata": {
  "kernelspec": {
   "display_name": "Python 3 (ipykernel)",
   "language": "python",
   "name": "python3"
  },
  "language_info": {
   "codemirror_mode": {
    "name": "ipython",
    "version": 3
   },
   "file_extension": ".py",
   "mimetype": "text/x-python",
   "name": "python",
   "nbconvert_exporter": "python",
   "pygments_lexer": "ipython3",
   "version": "3.11.6"
  }
 },
 "nbformat": 4,
 "nbformat_minor": 5
}
