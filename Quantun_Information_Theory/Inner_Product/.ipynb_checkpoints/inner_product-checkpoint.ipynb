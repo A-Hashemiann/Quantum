{
 "cells": [
  {
   "cell_type": "code",
   "execution_count": 18,
   "id": "fdda258d-4ed4-4595-807c-08b705f12659",
   "metadata": {},
   "outputs": [],
   "source": [
    "import numpy as np"
   ]
  },
  {
   "cell_type": "code",
   "execution_count": 29,
   "id": "e8dcf53d-121d-4a11-a2d5-db2992bd9bdc",
   "metadata": {},
   "outputs": [],
   "source": [
    "\n",
    "class QuantumOperations:\n",
    "    def inner_product(self, vec1, vec2):\n",
    "        \"\"\"\n",
    "        Here we compute the inner product\n",
    "        Attributes:\n",
    "        vec1: it is a column vector.\n",
    "        vec2: it is the second column vector.\n",
    "        Returns:\n",
    "        inn: inner product between vec1 and vec2.\n",
    "        \"\"\"\n",
    "        inn = complex(0.0, 0.0)\n",
    "        # checks the dimension of |v> and |w> whether they are equal or not\n",
    "        assert len(vec1) == len(vec2), \"dimension of two vectors are not equal to each other\"\n",
    "        # next for loop calculates\n",
    "        for i in range(len(vec1)):\n",
    "            inn = inn + (np.conjugate(vec1[i]) * vec2[i])\n",
    "        return inn"
   ]
  },
  {
   "cell_type": "code",
   "execution_count": 30,
   "id": "31d05397-c626-4e0e-87ca-c4482776dd95",
   "metadata": {},
   "outputs": [],
   "source": [
    "quantum_ops = QuantumOperations()\n",
    "vec1 = [1+2j, 3+4j, 5+6j]\n",
    "vec2 = [7+8j, 9+10j, 11+12j]"
   ]
  },
  {
   "cell_type": "code",
   "execution_count": 31,
   "id": "80e27caa-4b0e-4c19-80d9-ed1b59d881a5",
   "metadata": {},
   "outputs": [
    {
     "name": "stdout",
     "output_type": "stream",
     "text": [
      "The inner product of the vectors is: (217-18j)\n"
     ]
    }
   ],
   "source": [
    "inner_prod = quantum_ops.inner_product(vec1, vec2)\n",
    "print(f\"The inner product of the vectors is: {inner_prod}\")"
   ]
  },
  {
   "cell_type": "code",
   "execution_count": null,
   "id": "28e060ad-e229-4fdd-8a9d-8f1305ccca50",
   "metadata": {},
   "outputs": [],
   "source": []
  }
 ],
 "metadata": {
  "kernelspec": {
   "display_name": "Python 3 (ipykernel)",
   "language": "python",
   "name": "python3"
  },
  "language_info": {
   "codemirror_mode": {
    "name": "ipython",
    "version": 3
   },
   "file_extension": ".py",
   "mimetype": "text/x-python",
   "name": "python",
   "nbconvert_exporter": "python",
   "pygments_lexer": "ipython3",
   "version": "3.11.6"
  }
 },
 "nbformat": 4,
 "nbformat_minor": 5
}
